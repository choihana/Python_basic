{
 "cells": [
  {
   "cell_type": "markdown",
   "metadata": {},
   "source": [
    "# Python 라이브러리를 이용한 Timetable 만들기"
   ]
  },
  {
   "cell_type": "markdown",
   "metadata": {},
   "source": [
    "아래의 코드를 보고 빈칸 6개와 질문 2개에 대해 답을 찾아주세요.\n",
    "<Br>코드 내의 빈칸의 알맞은 파이썬 코드를 넣어보고 예시와 동일한 출력값이 나오는지 확인해보세요.\n",
    "<Br>여러분의 파이썬 톺아보기를 응원합니다!"
   ]
  },
  {
   "cell_type": "code",
   "execution_count": 55,
   "metadata": {},
   "outputs": [
    {
     "data": {
      "text/html": [
       "<style>.container {width:90% !important;}</style>"
      ],
      "text/plain": [
       "<IPython.core.display.HTML object>"
      ]
     },
     "metadata": {},
     "output_type": "display_data"
    }
   ],
   "source": [
    "from IPython.core.display import display, HTML\n",
    "display(HTML(\"<style>.container {width:90% !important;}</style>\"))"
   ]
  },
  {
   "cell_type": "code",
   "execution_count": 1,
   "metadata": {},
   "outputs": [],
   "source": [
    "from datetime import datetime, timedelta"
   ]
  },
  {
   "cell_type": "code",
   "execution_count": 15,
   "metadata": {},
   "outputs": [],
   "source": [
    "time_now = datetime(2020, 10, 17, 10, 15, 0)"
   ]
  },
  {
   "cell_type": "code",
   "execution_count": 16,
   "metadata": {},
   "outputs": [
    {
     "data": {
      "text/plain": [
       "datetime.datetime(2020, 10, 17, 10, 15)"
      ]
     },
     "execution_count": 16,
     "metadata": {},
     "output_type": "execute_result"
    }
   ],
   "source": [
    "time_now"
   ]
  },
  {
   "cell_type": "markdown",
   "metadata": {},
   "source": [
    "## 빈칸 1"
   ]
  },
  {
   "cell_type": "code",
   "execution_count": 17,
   "metadata": {},
   "outputs": [
    {
     "name": "stdout",
     "output_type": "stream",
     "text": [
      "수업 시작은 Am 10:15 입니다\n"
     ]
    }
   ],
   "source": [
    "am_pm = ''\n",
    "if time_now.hour < 12: ### 빈칸 1 : if 조건문\n",
    "    am_pm = \"Am\"\n",
    "else:\n",
    "    am_pm = \"Pm\"\n",
    "hour_12 = str(time_now.hour - 12 if time_now.hour > 12 else time_now.hour)\n",
    "print(\"수업 시작은 \" + am_pm + \" \" + hour_12 + \":\" + str(time_now.minute) + \" 입니다\")"
   ]
  },
  {
   "cell_type": "markdown",
   "metadata": {},
   "source": [
    "### if문 연습\n",
    "\n",
    "- (조건문 참일 때 return 값) if (조건문) else (조건문 거짓일 때 return 값)"
   ]
  },
  {
   "cell_type": "code",
   "execution_count": 35,
   "metadata": {},
   "outputs": [],
   "source": [
    "a = 10\n",
    "b = 1"
   ]
  },
  {
   "cell_type": "code",
   "execution_count": 36,
   "metadata": {},
   "outputs": [
    {
     "name": "stdout",
     "output_type": "stream",
     "text": [
      "10\n",
      "1\n"
     ]
    }
   ],
   "source": [
    "print(a if a > 5 else b)\n",
    "print(a if a > 10 else b)"
   ]
  },
  {
   "cell_type": "markdown",
   "metadata": {},
   "source": [
    "## 빈칸 2"
   ]
  },
  {
   "cell_type": "code",
   "execution_count": 39,
   "metadata": {},
   "outputs": [],
   "source": [
    "##### 변수추가 #################\n",
    "study_minutes = 50 #공부할 시간 \n",
    "lunch_minutes = 90 #점심 먹는 시간 \n",
    "break_minutes = 15 #쉬는시간\n",
    "###############################\n",
    "\n",
    "next_start_time = time_now\n",
    "next_end_time = time_now + timedelta(minutes = study_minutes) ### 빈칸 2: timedelta 괄호 내 코드 빈칸"
   ]
  },
  {
   "cell_type": "code",
   "execution_count": 22,
   "metadata": {},
   "outputs": [
    {
     "data": {
      "text/plain": [
       "datetime.datetime(2020, 10, 17, 11, 5)"
      ]
     },
     "execution_count": 22,
     "metadata": {},
     "output_type": "execute_result"
    }
   ],
   "source": [
    "next_end_time"
   ]
  },
  {
   "cell_type": "markdown",
   "metadata": {},
   "source": [
    "## 빈칸 3~6"
   ]
  },
  {
   "cell_type": "code",
   "execution_count": 40,
   "metadata": {},
   "outputs": [
    {
     "name": "stdout",
     "output_type": "stream",
     "text": [
      "---------------\n",
      "Period 1   | 10:15 ~ 11:5\n",
      "Break Time | 11:5 ~ 11:20\n",
      "---------------\n",
      "Period 2   | 11:20 ~ 12:10\n",
      "-\n",
      "Lunch Time | 12:10 ~ 1:40\n",
      "---------------\n",
      "Period 3   | 1:40 ~ 2:30\n",
      "Break Time | 2:30 ~ 2:45\n",
      "---------------\n",
      "Period 4   | 2:45 ~ 3:35\n",
      "Break Time | 3:35 ~ 3:50\n",
      "---------------\n",
      "Period 5   | 3:50 ~ 4:40\n"
     ]
    }
   ],
   "source": [
    "##Period가 빈칸2에 있으니까 실행할때마다 period가 증가해서 여기로 가져왔어요\n",
    "period = 1 \n",
    "for i in range(1, 10):\n",
    "   \n",
    "        \n",
    "    i_start_hour = str(next_start_time.hour - 12 if next_start_time.hour > 12 else next_start_time.hour)\n",
    "    i_start_minute = str(next_start_time.minute)\n",
    "\n",
    "    i_end_hour = str(next_end_time.hour - 12 if next_end_time.hour > 12 else next_end_time.hour)\n",
    "    i_end_minute = str(next_end_time.minute)\n",
    "\n",
    "    # print\n",
    "    \n",
    "    # 쉬는시간 or 점심시간\n",
    "    if i % 2 == 0: ## 질문 1. 이 조건문은 무엇을 의미할까요 ??\n",
    "        \n",
    "        if i == 4: ## 빈칸 3. if 조건문 채우기\n",
    "            print(\"-\",)\n",
    "            print(\"Lunch Time | \" + i_start_hour + \":\" + i_start_minute + \" ~ \" + i_end_hour + \":\" + i_end_minute)\n",
    "        else:\n",
    "            print(\"Break Time | \" + i_start_hour + \":\" + i_start_minute + \" ~ \" + i_end_hour + \":\" + i_end_minute)\n",
    "   \n",
    "    # 수업시간\n",
    "    else:\n",
    "        print(\"-\" * 15)\n",
    "        print(\"Period \" + str(period) + \"   | \" + i_start_hour + \":\" + i_start_minute + \" ~ \" + i_end_hour + \":\" + i_end_minute)\n",
    "        period += 1\n",
    "\n",
    "    # time_calculate\n",
    "    next_start_time = next_end_time\n",
    "    \n",
    "    #쉬는 시간 출력 후\n",
    "    if i % 2 == 0:\n",
    "        next_end_time = (next_start_time + timedelta(minutes = study_minutes)) ##빈칸4 \n",
    "    \n",
    "    #수업 시간 출력 후\n",
    "    else:\n",
    "        \n",
    "        #Lunch Time\n",
    "        if i == 3: ## 질문 2. 이 조건문은 무엇을 의미할까요 ??\n",
    "            next_end_time = (next_start_time + timedelta(minutes = lunch_minutes)) ##빈칸 5. +=?\n",
    "        else:\n",
    "            next_end_time = (next_start_time + timedelta(minutes = break_minutes))##빈칸 6. +=?"
   ]
  },
  {
   "cell_type": "markdown",
   "metadata": {},
   "source": [
    "## Q.서술형 문제"
   ]
  },
  {
   "cell_type": "markdown",
   "metadata": {},
   "source": [
    "1. 코드를 보고 질문 1번의 답변을 써 주세요 :\n",
    "\n",
    "2로 나눈 나머지가 0 일때 코드 실행\n",
    "\n",
    "시간표가 수업 - 쉬는시간 - 수업 - 쉬는시간(런치) - 수업 - 쉬는시간 번갈아가면서 진행 된다.\n",
    "\n",
    "순서에 따라서 수업시간 혹은 쉬는시간을 차례로 구분해주기 위해서 이런 조건문을 사용했다.\n",
    "\n",
    "- 1 % 2 = 1 -> 수업시간\n",
    "- 2 % 2 = 0 -> 쉬는시간\n",
    "- 3 % 2 = 1 -> 수업시간\n",
    "- 4 % 2 = 0 -> 쉬는시간"
   ]
  },
  {
   "cell_type": "markdown",
   "metadata": {},
   "source": [
    "2. 코드를 보고 질문 2번의 답변을 써 주세요 : \n",
    "\n",
    "Period 2 출력한 뒤 이므로 다음은 Lunch Time을 출력할 차례이다.\n",
    "\n",
    "Lunch는 다른 쉬는시간이랑 기간이 다르기 때문에 특별히 따로 코드를 작성해준다."
   ]
  },
  {
   "cell_type": "markdown",
   "metadata": {},
   "source": [
    "## Q+.선택 문제 : 위 문제를 모두 푸셨다면, 코드를 본인의 방식으로 수정해보세요!\n",
    "* 수업시간에 배운 것을 활용해도 좋고,\n",
    "* 긴 코드를 짧은 코드로 바꾸어보어도 좋고,\n",
    "* 변수를 더 직관적으로 바꾸어봐도 좋아요!\n",
    " <br><tab>   ex) 수정 전 print('———————') -> 수정 후 print('*' * 15)"
   ]
  },
  {
   "cell_type": "code",
   "execution_count": 45,
   "metadata": {},
   "outputs": [],
   "source": [
    "# 빈칸2번 입력하는 단계 줄여준 함수 버전  - 추가 1\n",
    "def Timetable(next_start_time,break_minutes,lunch_minutes,study_minutes):\n",
    "    \n",
    "    period = 1\n",
    "    \n",
    "    for i in range(1, 10):\n",
    "        \n",
    "        # 추가1 \n",
    "        # 첫번째 시간 일 때 수업시간으로 끝나는 시간 정해주기\n",
    "        if i == 1:\n",
    "            next_end_time = next_start_time + timedelta(minutes = study_minutes)\n",
    "        \n",
    "        i_start_hour = str(next_start_time.hour - 12 if next_start_time.hour > 12 else next_start_time.hour)\n",
    "        i_start_minute = str(next_start_time.minute)\n",
    "\n",
    "        i_end_hour = str(next_end_time.hour - 12 if next_end_time.hour > 12 else next_end_time.hour)\n",
    "        i_end_minute = str(next_end_time.minute)\n",
    "\n",
    "        # print\n",
    "    \n",
    "        # 쉬는시간 or 점심시간\n",
    "        if i % 2 == 0: ## 질문 1. 이 조건문은 무엇을 의미할까요 ??\n",
    "        \n",
    "            if i == 4: ## 빈칸 3. if 조건문 채우기\n",
    "                print(\"-\",)\n",
    "                print(\"Lunch Time | \" + i_start_hour + \":\" + i_start_minute + \" ~ \" + i_end_hour + \":\" + i_end_minute)\n",
    "            else:\n",
    "                print(\"Break Time | \" + i_start_hour + \":\" + i_start_minute + \" ~ \" + i_end_hour + \":\" + i_end_minute)\n",
    "   \n",
    "        # 수업시간\n",
    "        else:\n",
    "            print(\"-\" * 15)\n",
    "            print(\"Period \" + str(period) + \"   | \" + i_start_hour + \":\" + i_start_minute + \" ~ \" + i_end_hour + \":\" + i_end_minute)\n",
    "            period += 1\n",
    "\n",
    "        # time_calculate\n",
    "        next_start_time = next_end_time\n",
    "    \n",
    "        #쉬는 시간 출력 후\n",
    "        if i % 2 == 0:\n",
    "            next_end_time = (next_start_time + timedelta(minutes = study_minutes)) ##빈칸4 \n",
    "        \n",
    "        #수업 시간 출력 후\n",
    "        else:\n",
    "        \n",
    "            #Lunch Time\n",
    "            if i == 3: ## 질문 2. 이 조건문은 무엇을 의미할까요 ??\n",
    "                next_end_time = (next_start_time + timedelta(minutes = lunch_minutes)) ##빈칸 5. +=?\n",
    "            else:\n",
    "                next_end_time = (next_start_time + timedelta(minutes = break_minutes))##빈칸 6. +=?\n",
    "    "
   ]
  },
  {
   "cell_type": "code",
   "execution_count": 53,
   "metadata": {},
   "outputs": [],
   "source": [
    "# 중복 줄여준 버전\n",
    "# 아래 한번 더 쓰인 if문 합쳐주고, plus_minutes 변수 추가해서 각 If 문에서 다음에 몇분 더해줄건지 받아서 계산\n",
    "def Timetable2(next_start_time,break_minutes,lunch_minutes,study_minutes):\n",
    "    \n",
    "    period = 1\n",
    "    plus_minutes = 0\n",
    "    \n",
    "    for i in range(1, 10):\n",
    "        \n",
    "        # 첫번째 시간 일 때 수업시간으로 끝나는 시간 정해주기\n",
    "        if i == 1:\n",
    "            next_end_time = next_start_time + timedelta(minutes = study_minutes)\n",
    "        \n",
    "        i_start_hour = str(next_start_time.hour - 12 if next_start_time.hour > 12 else next_start_time.hour)\n",
    "        i_start_minute = str(next_start_time.minute)\n",
    "\n",
    "        i_end_hour = str(next_end_time.hour - 12 if next_end_time.hour > 12 else next_end_time.hour)\n",
    "        i_end_minute = str(next_end_time.minute)\n",
    "\n",
    "        # print\n",
    "    \n",
    "        # 쉬는시간 or 점심시간\n",
    "        if i % 2 == 0: \n",
    "        \n",
    "            if i == 4: \n",
    "                print(\"-\",)\n",
    "                print(\"Lunch Time | \" + i_start_hour + \":\" + i_start_minute + \" ~ \" + i_end_hour + \":\" + i_end_minute)\n",
    "                \n",
    "            else:\n",
    "                print(\"Break Time | \" + i_start_hour + \":\" + i_start_minute + \" ~ \" + i_end_hour + \":\" + i_end_minute)\n",
    "               \n",
    "            next_start_time = next_end_time\n",
    "            plus_minutes = study_minutes\n",
    "   \n",
    "        # 수업시간\n",
    "        else:\n",
    "            print(\"-\" * 15)\n",
    "            print(\"Period \" + str(period) + \"   | \" + i_start_hour + \":\" + i_start_minute + \" ~ \" + i_end_hour + \":\" + i_end_minute)\n",
    "            period += 1\n",
    "            \n",
    "            next_start_time = next_end_time\n",
    "            if i == 3: \n",
    "                plus_minutes = lunch_minutes \n",
    "            else:\n",
    "                plus_minutes = break_minutes\n",
    "        \n",
    "        # 다음 end_time 최종 계산\n",
    "        next_end_time = (next_start_time + timedelta(minutes = plus_minutes)) "
   ]
  },
  {
   "cell_type": "code",
   "execution_count": 46,
   "metadata": {},
   "outputs": [
    {
     "name": "stdout",
     "output_type": "stream",
     "text": [
      "---------------\n",
      "Period 1   | 10:15 ~ 10:55\n",
      "Break Time | 10:55 ~ 11:5\n",
      "---------------\n",
      "Period 2   | 11:5 ~ 11:45\n",
      "-\n",
      "Lunch Time | 11:45 ~ 1:25\n",
      "---------------\n",
      "Period 3   | 1:25 ~ 2:5\n",
      "Break Time | 2:5 ~ 2:15\n",
      "---------------\n",
      "Period 4   | 2:15 ~ 2:55\n",
      "Break Time | 2:55 ~ 3:5\n",
      "---------------\n",
      "Period 5   | 3:5 ~ 3:45\n"
     ]
    }
   ],
   "source": [
    "next_start_time = datetime(2020, 10, 17, 10, 15, 0) # 수업 시작시간 입력해주세요.\n",
    "break_minutes = 10\n",
    "lunch_minutes = 100\n",
    "study_minutes = 40\n",
    "\n",
    "Timetable(next_start_time,break_minutes,lunch_minutes,study_minutes)"
   ]
  },
  {
   "cell_type": "code",
   "execution_count": 48,
   "metadata": {},
   "outputs": [
    {
     "name": "stdout",
     "output_type": "stream",
     "text": [
      "---------------\n",
      "Period 1   | 10:30 ~ 11:15\n",
      "Break Time | 11:15 ~ 11:35\n",
      "---------------\n",
      "Period 2   | 11:35 ~ 12:20\n",
      "-\n",
      "Lunch Time | 12:20 ~ 1:50\n",
      "---------------\n",
      "Period 3   | 1:50 ~ 2:35\n",
      "Break Time | 2:35 ~ 2:55\n",
      "---------------\n",
      "Period 4   | 2:55 ~ 3:40\n",
      "Break Time | 3:40 ~ 4:0\n",
      "---------------\n",
      "Period 5   | 4:0 ~ 4:45\n"
     ]
    }
   ],
   "source": [
    "next_start_time = datetime(2020, 10, 17, 10, 30, 0) # 수업 시작시간 입력해주세요.\n",
    "break_minutes = 20\n",
    "lunch_minutes = 90\n",
    "study_minutes = 45\n",
    "\n",
    "Timetable(next_start_time,break_minutes,lunch_minutes,study_minutes)"
   ]
  },
  {
   "cell_type": "code",
   "execution_count": 54,
   "metadata": {},
   "outputs": [
    {
     "name": "stdout",
     "output_type": "stream",
     "text": [
      "---------------\n",
      "Period 1   | 10:30 ~ 11:15\n",
      "Break Time | 11:15 ~ 11:35\n",
      "---------------\n",
      "Period 2   | 11:35 ~ 12:20\n",
      "-\n",
      "Lunch Time | 12:20 ~ 1:50\n",
      "---------------\n",
      "Period 3   | 1:50 ~ 2:35\n",
      "Break Time | 2:35 ~ 2:55\n",
      "---------------\n",
      "Period 4   | 2:55 ~ 3:40\n",
      "Break Time | 3:40 ~ 4:0\n",
      "---------------\n",
      "Period 5   | 4:0 ~ 4:45\n"
     ]
    }
   ],
   "source": [
    "next_start_time = datetime(2020, 10, 17, 10, 30, 0) # 수업 시작시간 입력해주세요.\n",
    "break_minutes = 20\n",
    "lunch_minutes = 90\n",
    "study_minutes = 45\n",
    "\n",
    "Timetable2(next_start_time,break_minutes,lunch_minutes,study_minutes)"
   ]
  },
  {
   "cell_type": "code",
   "execution_count": null,
   "metadata": {},
   "outputs": [],
   "source": []
  }
 ],
 "metadata": {
  "kernelspec": {
   "display_name": "Python 3",
   "language": "python",
   "name": "python3"
  },
  "language_info": {
   "codemirror_mode": {
    "name": "ipython",
    "version": 3
   },
   "file_extension": ".py",
   "mimetype": "text/x-python",
   "name": "python",
   "nbconvert_exporter": "python",
   "pygments_lexer": "ipython3",
   "version": "3.8.3"
  }
 },
 "nbformat": 4,
 "nbformat_minor": 4
}
