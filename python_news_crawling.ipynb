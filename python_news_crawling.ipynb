{
 "cells": [
  {
   "cell_type": "markdown",
   "metadata": {},
   "source": [
    "데잇걸즈 파이썬 톺아보기 과제로 진행했습니다."
   ]
  },
  {
   "cell_type": "markdown",
   "metadata": {},
   "source": [
    "# 과제. BeautifulSoup을 이용하여 아래의 세 기사의 제목과 언론사를 크롤링해주세요!\n",
    "* for문을 이용하여 url 각각의 기사제목과 언론사를 가져와주세요\n",
    "* 가져온 정보를 아래와 같이 DataFrame으로 만들어 주세요"
   ]
  },
  {
   "cell_type": "markdown",
   "metadata": {},
   "source": [
    "|title|company|url|\n",
    "|------|---|---|\n",
    "|13일부터 마스크 착용 의무화..한 달 계도 후 과태료 10만 원|YTN|https://news.v.daum.net/v/20201004215700006|\n",
    "|\"사망 10대와 같은 곳서 같은 백신 접종한 32명, 이상반응 없어\"|연합뉴스|https://news.v.daum.net/v/20201020153505519|\n",
    "|지하수에 사는 '골룸 가물치'야, 넌 어디서 왔니|한겨레|https://news.v.daum.net/v/20201020153609574|\n",
    "\n"
   ]
  },
  {
   "cell_type": "code",
   "execution_count": 46,
   "metadata": {},
   "outputs": [],
   "source": [
    "crawl_url = [\"https://news.v.daum.net/v/20201004215700006\", \"https://news.v.daum.net/v/20201020153505519\", \"https://news.v.daum.net/v/20201020153609574\"]"
   ]
  },
  {
   "cell_type": "markdown",
   "metadata": {},
   "source": [
    "## import library"
   ]
  },
  {
   "cell_type": "code",
   "execution_count": 53,
   "metadata": {},
   "outputs": [],
   "source": [
    "import requests\n",
    "from bs4 import BeautifulSoup as bs\n",
    "import pandas as pd"
   ]
  },
  {
   "cell_type": "markdown",
   "metadata": {},
   "source": [
    "## 데이터 읽어오기 \n",
    "\n",
    "- requests.get(): 서버에 데이터 요청해서 가져오기\n",
    "- bs(res.content,'html.parser'): BeautifulSoup으로 깔끔하게 바꿔주기"
   ]
  },
  {
   "cell_type": "code",
   "execution_count": 8,
   "metadata": {},
   "outputs": [],
   "source": [
    "res = requests.get(\"https://news.v.daum.net/v/20201004215700006\")"
   ]
  },
  {
   "cell_type": "code",
   "execution_count": 9,
   "metadata": {},
   "outputs": [],
   "source": [
    "soup = bs(res.content, 'html.parser')"
   ]
  },
  {
   "cell_type": "code",
   "execution_count": 10,
   "metadata": {},
   "outputs": [
    {
     "data": {
      "text/plain": [
       "<!DOCTYPE html>\n",
       "\n",
       "<html lang=\"ko\">\n",
       "<head data-cloud-area=\"head\">\n",
       "<meta charset=\"utf-8\"/>\n",
       "<meta content=\"IE=edge\" http-equiv=\"X-UA-Compatible\"/>\n",
       "<style>\n",
       "             @import url('//t1.daumcdn.net/harmony_static/cloud/page/0c3961ace6f472d6e26855ad7974b4176e3f857f.css');\n",
       "            @import url('//t1.daumcdn.net/harmony_static/cloud/2020/09/17/components.21fc0700278d03c33a95.css')\n",
       "        </style>\n",
       "<meta content=\"noindex\" name=\"robots\"/>\n",
       "<meta content=\"AlpqqLPoP8\" property=\"mccp:docId\"/>\n",
       "<meta content=\"다음 뉴스\" data-cloud=\"pc_html_head_meta\" property=\"og:site_name\"/>\n",
       "<meta content=\"13일부터 마스크 착용 의무화..한 달 계도 후 과태료 10만 원\" data-cloud=\"pc_html_head_meta\" property=\"og:title\"/>\n",
       "<meta content=\"20201004215700\" data-cloud=\"pc_html_head_meta\" property=\"og:regDate\"/>\n",
       "<meta content=\"오는 13일부터 마스크 착용이 의무화됩니다. 정부는 한 달 계도 기간을 둔 뒤 다음 달 13일부터는 위반 행위 단속에 나서 최고 10만 원의 과태료를 부과할 방침입니다. 중앙재난안전대책본부는 오늘 브리핑을 통해 이같이 밝히고 국민의 동참을 당부했습니다. 중대본에 따르면 마스크 착용을 의무화하는 행정명령은 거리두기 단계와 시설 위험도에 따라 다르게 적용\" data-cloud=\"pc_html_head_meta\" property=\"og:description\"/>\n",
       "<meta content=\"https://img1.daumcdn.net/thumb/S1200x630/?fname=https://t1.daumcdn.net/news/202010/04/YTN/20201004215808712mdqs.jpg\" data-cloud=\"pc_html_head_meta\" property=\"og:image\"/>\n",
       "<meta content=\"1200\" data-cloud=\"pc_html_head_meta\" property=\"og:image:width\"/>\n",
       "<meta content=\"630\" data-cloud=\"pc_html_head_meta\" property=\"og:image:height\"/>\n",
       "<meta content=\"article\" data-cloud=\"pc_html_head_meta\" property=\"og:type\"/>\n",
       "<meta content=\"https://news.v.daum.net/v/20201004215700006\" data-cloud=\"pc_html_head_meta\" property=\"og:url\"/>\n",
       "<meta content=\"daumapps://web?url=https%3A%2F%2Fnews.v.daum.net/v/20201004215700006\" data-cloud=\"pc_html_head_meta\" property=\"al:android:url\"/>\n",
       "<meta content=\"net.daum.android.daum\" data-cloud=\"pc_html_head_meta\" property=\"al:android:package\"/>\n",
       "<meta content=\"다음앱\" data-cloud=\"pc_html_head_meta\" property=\"al:android:app_name\"/>\n",
       "<meta content=\"daumapps://web?url=https%3A%2F%2Fnews.v.daum.net/v/20201004215700006\" data-cloud=\"pc_html_head_meta\" property=\"al:ios:url\"/>\n",
       "<meta content=\"365494029\" data-cloud=\"pc_html_head_meta\" property=\"al:ios:app_store_id\"/>\n",
       "<meta content=\"다음앱\" data-cloud=\"pc_html_head_meta\" property=\"al:ios:app_name\"/>\n",
       "<meta content=\"https://img1.daumcdn.net/thumb/S1200x630/?fname=https://t1.daumcdn.net/news/202010/04/YTN/20201004215808712mdqs.jpg\" data-cloud=\"pc_html_head_meta\" property=\"twitter:image\"/>\n",
       "<meta content=\"summary_large_image\" data-cloud=\"pc_html_head_meta\" property=\"twitter:card\"/>\n",
       "<meta content=\"daumapps://web?url=https%3A%2F%2Fnews.v.daum.net/v/20201004215700006\" data-cloud=\"pc_html_head_meta\" property=\"twitter:app:url:googleplay\"/>\n",
       "<meta content=\"net.daum.android.daum\" data-cloud=\"pc_html_head_meta\" property=\"twitter:app:id:googleplay\"/>\n",
       "<meta content=\"다음앱\" data-cloud=\"pc_html_head_meta\" property=\"twitter:app:name:googleplay\"/>\n",
       "<meta content=\"KR\" data-cloud=\"pc_html_head_meta\" property=\"twitter:app:country\"/>\n",
       "<meta content=\"daumapps://web?url=https%3A%2F%2Fnews.v.daum.net/v/20201004215700006\" data-cloud=\"pc_html_head_meta\" property=\"twitter:app:url:iphone\"/>\n",
       "<meta content=\"365494029\" data-cloud=\"pc_html_head_meta\" property=\"twitter:app:id:iphone\"/>\n",
       "<meta content=\"다음앱\" data-cloud=\"pc_html_head_meta\" property=\"twitter:app:name:iphone\"/>\n",
       "<meta content=\"daumapps://web?url=https%3A%2F%2Fnews.v.daum.net/v/20201004215700006\" data-cloud=\"pc_html_head_meta\" property=\"twitter:app:url:ipad\"/>\n",
       "<meta content=\"365494029\" data-cloud=\"pc_html_head_meta\" property=\"twitter:app:id:ipad\"/>\n",
       "<meta content=\"다음앱\" data-cloud=\"pc_html_head_meta\" property=\"twitter:app:name:ipad\"/>\n",
       "<meta content=\"news\" data-cloud=\"pc_html_head_meta\" property=\"dg:uoc:svc\"/>\n",
       "<meta content=\"AlpqqLPoP8\" data-cloud=\"pc_html_head_meta\" property=\"dg:uoc:uid\"/>\n",
       "<meta content=\"article\" data-cloud=\"pc_html_head_meta\" property=\"dg:uoc:sc\"/>\n",
       "<meta content=\"https://news.v.daum.net/v/20201004215700006\" data-cloud=\"pc_html_head_meta\" property=\"dg:uoc:pcUrl\"/>\n",
       "<meta content=\"https://news.v.daum.net/v/20201004215700006?f=m\" data-cloud=\"pc_html_head_meta\" property=\"dg:uoc:mUrl\"/>\n",
       "<meta content=\"news.daum.net\" data-cloud=\"pc_html_head_meta\" name=\"svcdomain\"/>\n",
       "<meta content=\"20201004215700\" data-cloud=\"pc_html_head_meta\" property=\"article:published_time\"/>\n",
       "<meta content=\"20201004215808\" data-cloud=\"pc_html_head_meta\" property=\"article:modified_time\"/>\n",
       "<meta content=\"https://news.v.daum.net/v/20201004215700006\" data-cloud=\"pc_html_head_meta\" name=\"plink\"/>\n",
       "<meta content=\"https://news.v.daum.net/v/20201004215700006\" data-cloud=\"pc_html_head_meta\" property=\"article:txid\"/>\n",
       "<meta content=\"YTN\" data-cloud=\"pc_html_head_meta\" name=\"article:media_name\"/>\n",
       "<meta content=\"다음 뉴스\" data-cloud=\"pc_html_head_meta\" name=\"article:service_name\"/>\n",
       "<meta content=\"https://news.v.daum.net/v/20201004215700006?f=m\" data-cloud=\"pc_html_head_meta\" property=\"article:mobile_url\"/>\n",
       "<meta content=\"https://news.v.daum.net/v/20201004215700006?f=m\" data-cloud=\"pc_html_head_meta\" property=\"article:mobile_view_url\"/>\n",
       "<meta content=\"https://news.v.daum.net/v/20201004215700006\" data-cloud=\"pc_html_head_meta\" property=\"article:pc_url\"/>\n",
       "<meta content=\"https://news.v.daum.net/v/20201004215700006\" data-cloud=\"pc_html_head_meta\" property=\"article:pc_view_url\"/>\n",
       "<meta content=\"https://v.kakao.com/v/20201004215700006\" data-cloud=\"pc_html_head_meta\" property=\"article:talk_channel_view_url\"/>\n",
       "<meta content=\"http://media.daum.net/\" data-cloud=\"pc_html_head_meta\" property=\"article:pc_service_home\"/>\n",
       "<meta content=\"http://m.media.daum.net/\" data-cloud=\"pc_html_head_meta\" property=\"article:mobile_service_home\"/>\n",
       "<meta content=\"always\" name=\"referrer\"/>\n",
       "<title>13일부터 마스크 착용 의무화..한 달 계도 후 과태료 10만 원</title>\n",
       "<link href=\"//m2.daumcdn.net/img-media/2010ci/Daum_favicon.ico\" rel=\"shortcut icon\"/>\n",
       "</head>\n",
       "<body class=\"\">\n",
       "<div id=\"kakaoIndex\"> <a href=\"#kakaoBody\">본문 바로가기</a> <a href=\"#kakaoGnb\">메뉴 바로가기</a>\n",
       "</div>\n",
       "<div class=\"newsview_media\" id=\"kakaoWrap\">\n",
       "<div data-cloud-area=\"header\" id=\"kakaoHead\" role=\"banner\">\n",
       "<div class=\"head_media\" data-cloud=\"pc_news_header_gnb\">\n",
       "<h1> <a class=\"link_daum\" href=\"https://www.daum.net\"> <img alt=\"Daum\" class=\"thumb_g\" height=\"19\" src=\"//t1.daumcdn.net/media/news/news2016/retina/logo_daum.jpg\" width=\"45\"/> </a> <a href=\"https://news.daum.net\" id=\"kakaoServiceLogo\"><span class=\"ir_wa\">뉴스</span></a> </h1> <strong class=\"screen_out\">관련서비스</strong>\n",
       "<ul id=\"kakaoRelServices\">\n",
       "<li><a class=\"link_services link_services1\" href=\"https://entertain.daum.net/\"><span class=\"ir_wa\">연예</span></a></li>\n",
       "<li><a class=\"link_services link_services2\" href=\"https://sports.daum.net/\"><span class=\"ir_wa\">스포츠</span></a></li>\n",
       "</ul>\n",
       "<h2 class=\"screen_out\">검색</h2>\n",
       "<div class=\"search_news\" id=\"search_news\">\n",
       "<form action=\"https://search.daum.net/search\" id=\"kakaoSearch\" method=\"get\" name=\"kakaoSearch\">\n",
       "<fieldset class=\"fld_inside\"> <legend class=\"screen_out\">검색어 입력폼</legend>\n",
       "<div class=\"box_searchbar\"> <label class=\"lab_search\" for=\"qVal\">통합검색</label>\n",
       "<input name=\"nil_profile\" type=\"hidden\" value=\"search\"/>\n",
       "<input name=\"nil_src\" type=\"hidden\" value=\"media\"/>\n",
       "<input name=\"DA\" type=\"hidden\" value=\"23A\"/>\n",
       "<input name=\"rtmaxcoll\" type=\"hidden\" value=\"NNS\"/>\n",
       "<input autocomplete=\"off\" class=\"tf_keyword\" id=\"qVal\" name=\"q\" spellcheck=\"false\" title=\"검색어 입력\" type=\"text\" value=\"\"/> <button class=\"btn_search\" id=\"kakaoBtnSearch\" type=\"submit\"><span class=\"ir_wa\">검색</span></button>\n",
       "</div>\n",
       "</fieldset>\n",
       "<div class=\"wrap_suggestBox\" id=\"wrap_suggestBox\">\n",
       "<div class=\"suggestBox box_sub\" id=\"suggestBox\">\n",
       "<div class=\"baseBox bg\" style=\"display: none\"></div>\n",
       "</div>\n",
       "</div>\n",
       "</form>\n",
       "</div>\n",
       "</div>\n",
       "<div data-cloud=\"pc_news_header_gnb\" id=\"kakaoGnb\" role=\"navigation\">\n",
       "<div class=\"inner_gnb\">\n",
       "<h2 class=\"screen_out\">뉴스 메인메뉴</h2>\n",
       "<ul class=\"gnb_comm\" data-category=\"society\">\n",
       "<li class=\"home\"><a class=\"link_gnb link_gnb1\" href=\"//news.daum.net/\"><span class=\"ir_wa\">홈</span><span class=\"bar_gnb\"><span class=\"inner_bar\"></span></span></a></li>\n",
       "<li class=\"society\"><a class=\"link_gnb link_gnb2\" href=\"//news.daum.net/society/\"><span class=\"ir_wa\">사회</span><span class=\"bar_gnb\"><span class=\"inner_bar\"></span></span></a></li>\n",
       "<li class=\"politics\"><a class=\"link_gnb link_gnb3\" href=\"//news.daum.net/politics/\"><span class=\"ir_wa\">정치</span><span class=\"bar_gnb\"><span class=\"inner_bar\"></span></span></a></li>\n",
       "<li class=\"economic\"><a class=\"link_gnb link_gnb4\" href=\"//news.daum.net/economic/\"><span class=\"ir_wa\">경제</span><span class=\"bar_gnb\"><span class=\"inner_bar\"></span></span></a></li>\n",
       "<li class=\"foreign\"><a class=\"link_gnb link_gnb5\" href=\"//news.daum.net/foreign/\"><span class=\"ir_wa\">국제</span><span class=\"bar_gnb\"><span class=\"inner_bar\"></span></span></a></li>\n",
       "<li class=\"culture\"><a class=\"link_gnb link_gnb6\" href=\"//news.daum.net/culture/\"><span class=\"ir_wa\">문화</span><span class=\"bar_gnb\"><span class=\"inner_bar\"></span></span></a></li>\n",
       "<li class=\"digital\"><a class=\"link_gnb link_gnb7\" href=\"//news.daum.net/digital/\"><span class=\"ir_wa\">IT</span><span class=\"bar_gnb\"><span class=\"inner_bar\"></span></span></a></li>\n",
       "<li class=\"popular\"><a class=\"link_gnb link_gnb8\" href=\"//news.daum.net/ranking/popular\"><span class=\"ir_wa\">랭킹</span><span class=\"bar_gnb\"><span class=\"inner_bar\"></span></span></a></li>\n",
       "<li class=\"series editorial\"><a class=\"link_gnb link_gnb9\" href=\"//news.daum.net/series\"><span class=\"ir_wa\">연재</span><span class=\"bar_gnb\"><span class=\"inner_bar\"></span></span></a></li>\n",
       "<li class=\"photo\"><a class=\"link_gnb link_gnb10\" href=\"//news.daum.net/photo\"><span class=\"ir_wa\">포토</span><span class=\"bar_gnb\"><span class=\"inner_bar\"></span></span></a></li>\n",
       "<li class=\"tv\"><a class=\"link_gnb link_gnb11\" href=\"//news.daum.net/tv\"><span class=\"ir_wa\">TV</span><span class=\"bar_gnb\"><span class=\"inner_bar\"></span></span></a></li>\n",
       "</ul>\n",
       "<div class=\"gnb_etc\">\n",
       "<ul class=\"gnb_with\">\n",
       "<li><a class=\"link_gnb link_gnb1\" href=\"//news.daum.net/1boon\"><span class=\"ir_wa\">1boon</span></a></li>\n",
       "<li><a class=\"link_gnb link_gnb2\" href=\"//gallery.v.daum.net/p/home\"><span class=\"ir_wa\">갤러리</span><span class=\"bar_gnb\"><span class=\"inner_bar\"></span></span></a></li>\n",
       "</ul>\n",
       "<div class=\"gnb_weather\"> <strong class=\"screen_out\">날씨 정보</strong>\n",
       "<div id=\"gnb_weather\">\n",
       "<ul class=\"list_weather\" data-nightyn=\"N\"></ul>\n",
       "</div>\n",
       "</div>\n",
       "</div>\n",
       "</div>\n",
       "</div>\n",
       "<div class=\"bar_progress\" data-cloud=\"pc_news_header_gnb\" id=\"barProgress\"></div>\n",
       "</div>\n",
       "<div id=\"dummyKakaoGnb\" style=\"height:137px; display:none;\"></div>\n",
       "<hr class=\"hide\"/>\n",
       "<div class=\"cont_view\" id=\"kakaoContent\" role=\"main\">\n",
       "<h2 class=\"screen_out\" id=\"kakaoBody\">사회</h2>\n",
       "<div data-cloud-area=\"title\" id=\"cSub\">\n",
       "<div class=\"head_view\" data-cloud=\"pc_article_title\"> <em class=\"info_cp\"> <a class=\"link_cp\" href=\"http://www.ytn.co.kr\" target=\"_blank\"> <img alt=\"YTN\" class=\"thumb_g\" src=\"https://t1.daumcdn.net/media/news/2020/cp/cp_ytn.gif\"/> </a> </em>\n",
       "<h3 class=\"tit_view\" data-translation=\"true\">13일부터 마스크 착용 의무화..한 달 계도 후 과태료 10만 원</h3> <span class=\"info_view\"> <span class=\"txt_info\">김장하</span> <span class=\"txt_info\">입력 <span class=\"num_date\">2020.10.04. 21:57</span></span> <span class=\"txt_info\">수정 <span class=\"num_date\">2020.10.04. 21:58</span></span> <button class=\"emph_g2 link_cmt\" id=\"alexCounter\">댓글 <span class=\"alex-count-area\">0</span>개</button> </span>\n",
       "<div class=\"util_view\">\n",
       "<div class=\"btn_util util_summary\"> <button aria-expanded=\"false\" class=\"btn_summary\" type=\"button\"><span class=\"ico_newsview\">자동요약</span></button>\n",
       "<div class=\"wrap_setlayer\">\n",
       "<div class=\"layer_util layer_summary\">\n",
       "<p>오는 13일부터 마스크 착용이 의무화됩니다.</p>\n",
       "<p>정부는 한 달 계도 기간을 둔 뒤 다음 달 13일부터는 위반 행위 단속에 나서 최고 10만 원의 과태료를 부과할 방침입니다.</p>\n",
       "<p>세면, 음식섭취, 의료행위, 수영장·목욕탕 등에 있을 때, 공연 등 얼굴이 보여야 하는 불가피한 상황도 과태료 부과 예외가 됩니다.</p>\n",
       "<p>정부는 11월 12일까지 30일간 계도 기간을 둔 뒤 11월 13일부터 적발되는 위반 행위는 10만 원 이하의 과태료를 부과할 계획입니다.</p> <span class=\"info_summary\"><span class=\"ico_newsview\"></span>기사 제목과 주요 문장을 기반으로 자동요약한 결과입니다. 전체 맥락을 이해하기 위해서는 본문 보기를 권장합니다.</span>\n",
       "</div>\n",
       "</div>\n",
       "</div>\n",
       "<div class=\"btn_util tts_btn\"> <button aria-expanded=\"false\" class=\"btn_set btn_tts\" type=\"button\"> <span class=\"ico_newsview ico_speak\">음성 기사 듣기</span> </button>\n",
       "<div class=\"wrap_setlayer\">\n",
       "<div class=\"layer_util layer_set layer_tts\"> <strong class=\"screen_out\">음성 기사 옵션 조절 레이어</strong>\n",
       "<ul class=\"list_set list_tts\">\n",
       "<li> <input class=\"screen_out\" id=\"ttsGenderMale\" name=\"ttsGender\" type=\"radio\" value=\"Male\"/> <label class=\"lab_set\" for=\"ttsGenderMale\"><span class=\"ico_newsview\"></span>남성</label> </li>\n",
       "<li> <input class=\"screen_out\" id=\"ttsGenderFemale\" name=\"ttsGender\" type=\"radio\" value=\"Female\"/> <label class=\"lab_set\" for=\"ttsGenderFemale\"><span class=\"ico_newsview\"></span>여성</label> </li>\n",
       "</ul>\n",
       "<ul class=\"list_set list_tts list_ttsspeed\">\n",
       "<li> <input class=\"screen_out\" id=\"ttsSpeedSlow\" name=\"ttsSpeed\" type=\"radio\" value=\"slow\"/> <label class=\"lab_set\" for=\"ttsSpeedSlow\"><span class=\"ico_newsview\"></span>느림</label> </li>\n",
       "<li> <input class=\"screen_out\" id=\"ttsSpeedNormal\" name=\"ttsSpeed\" type=\"radio\" value=\"normal\"/> <label class=\"lab_set\" for=\"ttsSpeedNormal\"><span class=\"ico_newsview\"></span>보통</label> </li>\n",
       "<li> <input class=\"screen_out\" id=\"ttsSpeedFast\" name=\"ttsSpeed\" type=\"radio\" value=\"fast\"/> <label class=\"lab_set\" for=\"ttsSpeedFast\"><span class=\"ico_newsview\"></span>빠름</label> </li>\n",
       "</ul>\n",
       "</div>\n",
       "</div>\n",
       "<audio id=\"ttsPlayer\" preload=\"none\" style=\"display:none\"></audio>\n",
       "</div>\n",
       "<div class=\"btn_util translate_btn\"> <button aria-expanded=\"false\" class=\"btn_set btn_translate #util #translate #set\" type=\"button\"><span class=\"ico_newsview\">번역 설정</span></button>\n",
       "<div class=\"wrap_translatelayer\">\n",
       "<div class=\"layer_util layer_translate\"> <strong class=\"tit_translate\">번역<span class=\"ico_newsview\">beta</span> </strong>\n",
       "<p class=\"desc_translate txt_newsview\">Translated by <a class=\"link_kakaoi #util #translate #kakaoi_link\" href=\"https://kakao.ai/\" target=\"_blank\">kakao i</a></p> <strong class=\"screen_out\">번역할 언어 선택</strong>\n",
       "<ul class=\"list_lang\">\n",
       "<li> <button class=\"btn_lang btn_en #util #translate #lang_en\" name=\"en\"> <span class=\"ico_newsview ico_flag\"></span> <strong class=\"ico_newsview tit_lang\">English</strong> </button> </li>\n",
       "<li> <button class=\"btn_lang btn_ch #util #translate #lang_cn\" name=\"cn\" type=\"button\"> <span class=\"ico_newsview ico_flag\"></span> <strong class=\"ico_newsview tit_lang\">简体中文</strong> </button> </li>\n",
       "<li> <button class=\"btn_lang btn_jp #util #translate #lang_jp\" name=\"jp\" type=\"button\"> <span class=\"ico_newsview ico_flag\"></span> <strong class=\"ico_newsview tit_lang\">日本語</strong> </button> </li>\n",
       "<li> <button class=\"btn_lang btn_ind #util #translate #lang_id\" name=\"id\" type=\"button\"> <span class=\"ico_newsview ico_flag\"></span> <strong class=\"ico_newsview tit_lang\">Bahasa Indonesia</strong> </button> </li>\n",
       "<li> <button class=\"btn_lang btn_viet #util #translate #lang_vi\" name=\"vi\" type=\"button\"> <span class=\"ico_newsview ico_flag\"></span> <strong class=\"ico_newsview tit_lang\">tiếng Việt</strong> </button> </li>\n",
       "<li> <button class=\"btn_lang btn_ko #util #translate #lang_kr\" name=\"kr\" type=\"button\"> <span class=\"ico_newsview ico_flag\"></span> <strong class=\"ico_newsview tit_lang\">한국어</strong> </button> </li>\n",
       "</ul>\n",
       "</div>\n",
       "</div>\n",
       "</div>\n",
       "<div class=\"btn_util share_btn\"> <button aria-expanded=\"false\" class=\"btn_set btn_share\" id=\"rSocialShareButton\"> <span class=\"ico_newsview\">공유</span> </button>\n",
       "<div id=\"rSocialShareLayerContainer\"></div>\n",
       "</div>\n",
       "<div class=\"font_btn btn_util\"> <button aria-expanded=\"false\" class=\"btn_set btn_font\" type=\"button\"> <span class=\"ico_newsview ico_font\">글씨크기 조절하기</span> </button>\n",
       "<div class=\"wrap_setlayer\">\n",
       "<div class=\"layer_util layer_set layer_font\"> <strong class=\"screen_out\">글자 크기 조절 레이어</strong>\n",
       "<ul class=\"list_set list_font\">\n",
       "<li> <input class=\"screen_out\" id=\"inpFont17\" name=\"inpFont\" type=\"radio\" value=\"17\"/> <label class=\"lab_set lab_size0\" for=\"inpFont17\"> <span class=\"ico_newsview\"></span> <span aria-hidden=\"true\">가나다라마바사</span> <span class=\"screen_out\">매우 작은 폰트</span> </label> </li>\n",
       "<li> <input class=\"screen_out\" id=\"inpFont18\" name=\"inpFont\" type=\"radio\" value=\"18\"/> <label class=\"lab_set lab_size1\" for=\"inpFont18\"> <span class=\"ico_newsview\"></span> <span aria-hidden=\"true\">가나다라마바사</span> <span class=\"screen_out\">작은 폰트</span> </label> </li>\n",
       "<li> <input class=\"screen_out\" id=\"inpFont19\" name=\"inpFont\" type=\"radio\" value=\"19\"/> <label class=\"lab_set lab_size2\" for=\"inpFont19\"> <span class=\"ico_newsview\"></span> <span aria-hidden=\"true\">가나다라마바사</span> <span class=\"screen_out\">보통 폰트</span> </label> </li>\n",
       "<li> <input class=\"screen_out\" id=\"inpFont20\" name=\"inpFont\" type=\"radio\" value=\"20\"/> <label class=\"lab_set lab_size3\" for=\"inpFont20\"> <span class=\"ico_newsview\"></span> <span aria-hidden=\"true\">가나다라마바사</span> <span class=\"screen_out\">큰 폰트</span> </label> </li>\n",
       "<li> <input class=\"screen_out\" id=\"inpFont21\" name=\"inpFont\" type=\"radio\" value=\"21\"/> <label class=\"lab_set lab_size4\" for=\"inpFont21\"> <span class=\"ico_newsview\"></span> <span aria-hidden=\"true\">가나다라마바사</span> <span class=\"screen_out\">매우 큰 폰트</span> </label> </li>\n",
       "</ul>\n",
       "</div>\n",
       "</div>\n",
       "</div>\n",
       "<div class=\"btn_util\"> <button class=\"btn_print\" type=\"button\"><span class=\"ico_newsview\">인쇄하기 새창열림</span></button>\n",
       "</div>\n",
       "</div>\n",
       "</div>\n",
       "</div>\n",
       "<div id=\"cMain\">\n",
       "<div id=\"mArticle\">\n",
       "<div data-cloud-area=\"article\">\n",
       "<div class=\"status_view\" data-cloud=\"pc_article_body\" id=\"translateNotice\" style=\"display:none;\"> <span class=\"notice_lang notice_lang_en\" style=\"display:none;\">The copyright belongs to the original writer of the content, and there may be errors in machine translation results.</span> <span class=\"notice_lang notice_lang_cn\" style=\"display:none;\">版权归内容原作者所有。机器翻译结果可能存在错误。</span> <span class=\"notice_lang notice_lang_jp\" style=\"display:none;\">原文の著作権は原著著作者にあり、機械翻訳の結果にエラーが含まれることがあります。</span> <span class=\"notice_lang notice_lang_id\" style=\"display:none;\">Hak cipta milik penulis asli dari konten, dan mungkin ditemukan kesalahan dalam hasil terjemahan mesin.</span> <span class=\"notice_lang notice_lang_vi\" style=\"display:none;\">Bản quyền thuộc về tác giả gốc của nội dung và có thể có lỗi trong kết quả dịch bằng máy.</span>\n",
       "</div>\n",
       "<div class=\"news_view\" data-cloud=\"pc_article_body\" style=\"font-size:17px\">\n",
       "<div class=\"article_view\" data-translation-body=\"true\" id=\"harmonyContainer\">\n",
       "<section dmcf-sid=\"Ar9cTnWOB7\">\n",
       "<figure class=\"figure_frm origin_fig\" dmcf-pid=\"ATZq9Ccp8A\" dmcf-ptype=\"figure\">\n",
       "<p class=\"link_figure\"><img class=\"thumb_g_article\" data-org-src=\"https://t1.daumcdn.net/news/202010/04/YTN/20201004215808712mdqs.jpg\" data-org-width=\"1280\" dmcf-mid=\"ApOemxpnTx\" dmcf-mtype=\"image\" height=\"auto\" src=\"https://img3.daumcdn.net/thumb/R658x0.q70/?fname=https://t1.daumcdn.net/news/202010/04/YTN/20201004215808712mdqs.jpg\" width=\"658\"/></p>\n",
       "</figure>\n",
       "<p dmcf-pid=\"A1y9MVrxj2\" dmcf-ptype=\"general\">오는 13일부터 마스크 착용이 의무화됩니다. </p>\n",
       "<p dmcf-pid=\"AKbTDJJyKs\" dmcf-ptype=\"general\">정부는 한 달 계도 기간을 둔 뒤 다음 달 13일부터는 위반 행위 단속에 나서 최고 10만 원의 과태료를 부과할 방침입니다. </p>\n",
       "<p dmcf-pid=\"AuGsnA7s8k\" dmcf-ptype=\"general\">중앙재난안전대책본부는 오늘 브리핑을 통해 이같이 밝히고 국민의 동참을 당부했습니다. </p>\n",
       "<p dmcf-pid=\"A9znQ2F79a\" dmcf-ptype=\"general\">중대본에 따르면 마스크 착용을 의무화하는 행정명령은 거리두기 단계와 시설 위험도에 따라 다르게 적용되는데 대중교통, 집회 시위장, 의료기관, 요양시설, 주야간 보호시설의 경우 거리두기와 무관하게 항상 시행됩니다. </p>\n",
       "<p dmcf-pid=\"AJgGq4k7kq\" dmcf-ptype=\"general\">다중이용시설은 사회적 거리두기 단계별로 집합이 제한되는 시설 사업주, 종사자, 이용자를 대상으로 단계적으로 적용됩니다. </p>\n",
       "<p dmcf-pid=\"AsHNxTwnXN\" dmcf-ptype=\"general\">착용이 인정되는 마스크는 KF94, KF80, 비말 차단 마스크, 수술용 마스크, 천 마스크, 일회용 마스크 등이고 망사형이나 밸브형 마스크, 스카프 등 옷가지로 얼굴을 가리는 건 인정되지 않습니다. </p>\n",
       "<p dmcf-pid=\"ASJe6ELWCo\" dmcf-ptype=\"general\">허용된 마스크를 썼다 해도 입과 코를 완전히 가리지 않으면 과태료가 부과될 수 있습니다. </p>\n",
       "<p dmcf-pid=\"ABim0BHtYt\" dmcf-ptype=\"general\">다만 만 14세 미만과 마스크 착용이 어려운 사람은 부과 대상에서 제외됩니다. </p>\n",
       "<p dmcf-pid=\"AB9utNMWkO\" dmcf-ptype=\"general\">세면, 음식섭취, 의료행위, 수영장·목욕탕 등에 있을 때, 공연 등 얼굴이 보여야 하는 불가피한 상황도 과태료 부과 예외가 됩니다. </p>\n",
       "<p dmcf-pid=\"Af11ZuHjik\" dmcf-ptype=\"general\">정부는 11월 12일까지 30일간 계도 기간을 둔 뒤 11월 13일부터 적발되는 위반 행위는 10만 원 이하의 과태료를 부과할 계획입니다. </p>\n",
       "<p dmcf-pid=\"Aky81eZJM5\" dmcf-ptype=\"general\">※ '당신의 제보가 뉴스가 됩니다' YTN은 여러분의 소중한 제보를 기다립니다. </p>\n",
       "<p dmcf-pid=\"AztPxFIjC0\" dmcf-ptype=\"general\">[카카오톡] YTN을 검색해 채널 추가 [전화] 02-398-8585 [메일] social@ytn.co.kr [온라인 제보] www.ytn.co.kr</p>\n",
       "</section>\n",
       "</div>\n",
       "</div>\n",
       "</div>\n",
       "<div class=\"foot_view\" data-cloud-area=\"addition\">\n",
       "<div class=\"copyright_view\" data-cloud=\"pc_like_and_copylight\"> <span class=\"txt_copyright\">저작권자(c) YTN &amp; YTN plus. 무단 전재-재배포 금지</span>\n",
       "<div class=\"btn_empathy\" id=\"likeButton\">\n",
       "<div class=\"empathy empathy_pc\" id=\"empathy_pc\">\n",
       "<div class=\"inner_empathy uoc-icon\"> <a class=\"img_empathy btn_empathy uoc-button\" href=\"#none\"> <span class=\"img_empathy ico_heart\"></span> <span class=\"txt_empathy uoc-text\" style=\"display:inline-block\">공감</span> <span class=\"num_empathy uoc-count\" style=\"display: none;\"></span> <span class=\"access_text screen_out\">공감하기</span> </a> <a class=\"img_empathy link_empathy uoc-best-button\" href=\"http://like.daum.net/best/daily\" target=\"_top\">베스트공감 &gt;</a>\n",
       "</div>\n",
       "</div>\n",
       "</div>\n",
       "</div>\n",
       "<div class=\"cp_view\" data-cloud=\"pc_related_news\"> <strong class=\"tit_cp\">YTN 주요 뉴스<span class=\"info_cp\">해당 언론사로 연결됩니다.</span></strong>\n",
       "<ul class=\"list_relate\">\n",
       "<li><a class=\"link_txt\" data-type=\"related\" href=\"https://www.ytn.co.kr/_ln/0101_202010041655184185\" target=\"_blank\" title=\"폼페이오 방한 연기...일본 '쿼드' 회의엔 예정대로 참석\">폼페이오 방한 연기...일본 '쿼드' 회의엔 예정대로 참석</a></li>\n",
       "<li><a class=\"link_txt\" data-type=\"related\" href=\"https://www.ytn.co.kr/_ln/0103_202010041635058443\" target=\"_blank\" title=\"액상형 전자담배 독성, 세포·동물흡입 시험에서도 확인\">액상형 전자담배 독성, 세포·동물흡입 시험에서도 확인</a></li>\n",
       "<li><a class=\"link_txt\" data-type=\"related\" href=\"https://www.ytn.co.kr/_ln/0103_202010032159119540\" target=\"_blank\" title=\"보수 단체들, 정부 규탄 시위...큰 충돌 없었다\">보수 단체들, 정부 규탄 시위...큰 충돌 없었다</a></li>\n",
       "<li><a class=\"link_txt\" data-type=\"related\" href=\"https://www.ytn.co.kr/_ln/0104_202010041301141741\" target=\"_blank\" title='\"中 전투기 200초면 타이완에...1996년 이후 최대 군사적 위기 직면\"'>\"中 전투기 200초면 타이완에...1996년 이후 최대 군사적 위기 직면\"</a></li>\n",
       "<li><a class=\"link_txt\" data-type=\"related\" href=\"https://www.ytn.co.kr/_ln/0104_202010041445013205\" target=\"_blank\" title=\"라이브 방송 중 전남편이 붙인 불에...中 여성 사망\">라이브 방송 중 전남편이 붙인 불에...中 여성 사망</a></li>\n",
       "<li><a class=\"link_txt\" data-type=\"rss\" href=\"https://www.ytn.co.kr/_ln/0104_202010200930018928\" target=\"_blank\" title=\"'엄마 성폭행 막은 아이' 살해한 인니 남성, 유치장서 숨져\">'엄마 성폭행 막은 아이' 살해한 인니 남성, 유치장서 숨져</a></li>\n",
       "<li><a class=\"link_txt\" data-type=\"rss\" href=\"https://www.ytn.co.kr/_ln/0103_202010201106095040\" target=\"_blank\" title='[양담소] \"남편이 졸혼 요구...별거 시작되니 가출했다며 재산분할도 거부합니다\"'>[양담소] \"남편이 졸혼 요구...별거 시작되니 가출했다며 재산분할도 거부합니다\"</a></li>\n",
       "<li><a class=\"link_txt\" data-type=\"rss\" href=\"https://www.ytn.co.kr/_ln/0101_202010200447053258\" target=\"_blank\" title=\"[단독] 20초 만에 털린 강원랜드 당시 CCTV엔...열쇠 분실도 수 년간 몰라\">[단독] 20초 만에 털린 강원랜드 당시 CCTV엔...열쇠 분실도 수 년간 몰라</a></li>\n",
       "<li><a class=\"link_txt\" data-type=\"rss\" href=\"https://www.ytn.co.kr/_ln/0134_202010200700018144\" target=\"_blank\" title=\"관람객 앞에서 곰들에 공격 당해 숨진 사육사\">관람객 앞에서 곰들에 공격 당해 숨진 사육사</a></li>\n",
       "<li><a class=\"link_txt\" data-type=\"rss\" href=\"https://www.ytn.co.kr/_ln/0101_202010201500014264\" target=\"_blank\" title='\"인육 맛있겠다\" 韓 외교관 엽기적 막말 논란'>\"인육 맛있겠다\" 韓 외교관 엽기적 막말 논란</a></li>\n",
       "</ul>\n",
       "</div>\n",
       "<div data-cloud=\"pc_article_bottom_ad\" id=\"alex-scroll-area\"></div>\n",
       "<ins class=\"kakao_ad_area recomm_ad\" data-ad-height=\"90\" data-ad-onfail=\"cmRenderFailCallBack\" data-ad-unit=\"DAN-1jezdswwiit7q\" data-ad-width=\"658\" data-cloud=\"pc_article_bottom_ad\" style=\"display:block; width: 658px; text-decoration: none; min-width: 658px;\"> </ins>\n",
       "<div class=\"cmt_news cmt_view\" data-cloud=\"pc_comment\">\n",
       "<div class=\"news_notice\" id=\"newsviewNotice\"></div>\n",
       "<div class=\"alex-area\" data-base-url=\"//comment.daum.net\" data-client-id=\"26BXAvKny5WF5Z09lr5k77Y8\" data-initial-limit=\"3\" data-is-mobile=\"false\" data-kakao-appkey=\"9076ba452fea1a434141d6b6a2c11a3c\" data-max-length=\"300\" data-page-limit=\"10\" data-post-id=\"@20201004215700006\" data-show-mask-alert=\"true\" data-sort=\"P\" data-use-attachment=\"false\" data-use-emoticon=\"true\" data-use-fold=\"true\" data-use-live-comment-mode=\"notify\" data-use-my=\"true\" data-use-official=\"true\" data-use-reply=\"true\" data-use-skin=\"newsView\" data-use-social-share=\"true\" id=\"alex-area\">\n",
       "</div>\n",
       "</div>\n",
       "</div>\n",
       "</div>\n",
       "<div data-cloud-area=\"aside\" id=\"mAside\">\n",
       "<ins class=\"kakao_ad_area aside_g aside_ad\" data-ad-height=\"250\" data-ad-type=\"D\" data-ad-unit=\"05d24\" data-ad-width=\"250\" data-cloud=\"pc_aside_top_ad\" style=\"display:block;width:250px;height:250px;\"> </ins>\n",
       "<div class=\"aside_g aside_popular hide\" data-cloud=\"pc_popular_news\">\n",
       "<h3 class=\"txt_newsview\">많이본 뉴스</h3>\n",
       "<ul class=\"tab_aside tab_media\">\n",
       "<li class=\"on\"> <a class=\"link_tab link_tab2\" href=\"#none\">뉴스</a> </li>\n",
       "<li class=\"\"> <a class=\"link_tab link_tab3\" href=\"#none\">연예</a> </li>\n",
       "<li class=\"\"> <a class=\"link_tab link_tab4\" href=\"#none\">스포츠</a> </li>\n",
       "</ul>\n",
       "</div>\n",
       "<div class=\"aside_g aside_phototv hide\" data-cloud=\"pc_news_photo_tv\">\n",
       "<h3 class=\"txt_newsview\">포토&amp;TV</h3>\n",
       "<div class=\"cont_aside\">\n",
       "<ul class=\"list_phototv\"></ul>\n",
       "</div>\n",
       "</div>\n",
       "<ins class=\"kakao_ad_area aside_g aside_ad\" data-ad-height=\"250\" data-ad-type=\"D\" data-ad-unit=\"0QH44\" data-ad-width=\"250\" data-cloud=\"pc_aside_bottom_ad\" style=\"display:block;width:250px;height:250px;\"> </ins>\n",
       "</div>\n",
       "</div>\n",
       "<div id=\"cEtc\">\n",
       "<div class=\"realtime_view\">\n",
       "<div class=\"inner_realtime\">\n",
       "<div data-cloud-area=\"etc\">\n",
       "<div data-cloud=\"pc_realtime_news\" data-cloud-key=\"TOROS_NEWS_PC\" data-cloud-ui=\"RealTimeNews\">\n",
       "</div>\n",
       "</div>\n",
       "<div class=\"realtime_aside\" data-cloud-area=\"etc-aside\" id=\"realtime_aside\">\n",
       "<div class=\"shopad_news aside_g aside_shopping\" data-cloud=\"pc_shopping_ad\" id=\"daum-sfocus-root\"></div>\n",
       "</div>\n",
       "</div>\n",
       "</div>\n",
       "<div data-cloud-area=\"etc-addition\">\n",
       "</div>\n",
       "</div>\n",
       "</div>\n",
       "<hr class=\"hide\"/>\n",
       "<div class=\"footer_comm\" data-cloud-area=\"footer\" id=\"kakaoFoot\" role=\"contentinfo\">\n",
       "<div class=\"inner_foot\" data-cloud=\"pc_news_footer\">\n",
       "<div class=\"direct_link\">\n",
       "<h2 class=\"tit_direct\">바로가기</h2>\n",
       "<div class=\"item_bundle\"> <a class=\"link_txt\" href=\"https://news.daum.net/\">뉴스홈</a> <a class=\"link_txt\" href=\"https://news.daum.net/society/\">사회</a> <a class=\"link_txt\" href=\"https://news.daum.net/politics/\">정치</a> <a class=\"link_txt\" href=\"https://news.daum.net/economic/\">경제</a> <a class=\"link_txt\" href=\"https://news.daum.net/foreign/\">국제</a> <a class=\"link_txt\" href=\"https://news.daum.net/culture/\">문화</a> <a class=\"link_txt\" href=\"https://news.daum.net/digital/\">IT</a> <a class=\"link_txt\" href=\"https://news.daum.net/photo/\">포토</a> <a class=\"link_txt\" href=\"http://news.daum.net/tv/\">TV</a>\n",
       "</div>\n",
       "<div class=\"item_bundle\"> <a class=\"link_txt\" href=\"https://news.daum.net/cp\">언론사별 뉴스</a>\n",
       "</div>\n",
       "<div class=\"item_bundle\"> <a class=\"link_txt\" href=\"https://news.daum.net/newsbox\">배열이력</a>\n",
       "</div>\n",
       "<div class=\"item_bundle\"> <a class=\"link_txt\" href=\"https://news.daum.net/breakingnews\">전체뉴스</a> <a class=\"link_txt\" href=\"https://news.daum.net/ranking/popular\">랭킹</a> <a class=\"link_txt\" href=\"https://news.daum.net/series\">연재</a> <a class=\"link_txt\" href=\"https://news.daum.net/1boon\">1boon</a>\n",
       "</div> <button class=\"btn_fold\" type=\"button\"><span class=\"ico_news\">바로가기 링크 더보기/접기</span></button>\n",
       "</div>\n",
       "<h2 class=\"screen_out\">서비스 이용정보</h2>\n",
       "<div class=\"footer_link\"> <a class=\"link_info\" href=\"https://news.daum.net/info/intro\">다음뉴스 소개</a> <span class=\"txt_dot\"> ・ </span> <a class=\"link_info\" href=\"https://news.daum.net/notice\">공지사항</a> <span class=\"txt_dot\"> ・ </span> <a class=\"link_info\" href=\"https://news.daum.net/info/bbsrule\">게시물 운영원칙</a> <span class=\"txt_dot\"> ・ </span> <a class=\"link_info\" href=\"http://policy.daum.net/info/info\">서비스 약관/정책</a> <span class=\"txt_dot\"> ・ </span> <a class=\"link_info\" href=\"https://with.kakao.com/media\">뉴스제휴</a> <span class=\"txt_dot\"> ・ </span> <a class=\"link_info\" href=\"https://business.kakao.com/\">비즈니스</a> <span class=\"txt_dot\"> ・ </span> <a class=\"link_info\" href=\"https://cs.daum.net/redbell/top.html\">권리침해신고</a> <span class=\"txt_dot\"> ・ </span> <a class=\"link_info\" href=\"https://cs.daum.net/faq/63.html\">다음뉴스 고객센터</a>\n",
       "</div>\n",
       "<div class=\"footer_link\"> <a class=\"link_info\" href=\"https://news.daum.net/info/newscenter24\">24시간 뉴스센터</a> <span class=\"txt_dot\"> ・ </span> <a class=\"link_info\" href=\"https://news.daum.net/info/edit\">서비스원칙</a> <span class=\"txt_dot\"> ・ </span> <a class=\"link_info\" href=\"https://news.daum.net/info/correct\">바로잡습니다</a> <span class=\"txt_dot\"> ・ </span> <span class=\"link_info\">기사배열책임자 : 손정아</span> <span class=\"txt_dot\"> ・ </span> <span class=\"link_info\">청소년보호책임자 : 이준목</span>\n",
       "</div>\n",
       "<div class=\"info_copyright\"> <strong class=\"info_warn\">위 내용에 대한 저작권 및 법적 책임은 자료제공사 또는 <br/>글쓴이에 있으며, Kakao의 입장과 다를 수 있습니다.</strong> <small class=\"txt_copyright\">Copyright © <strong class=\"txt_kakao\"><a class=\"link_kakao\" href=\"http://www.kakaocorp.com/\">Kakao Corp.</a></strong> All rights reserved.</small>\n",
       "</div>\n",
       "</div>\n",
       "</div>\n",
       "<div id=\"wrapMinidaum\"></div> <samp data-cloud-area=\"util\"> </samp>\n",
       "</div>\n",
       "<script src=\"//t1.daumcdn.net/harmony_static/cloud/2020/09/17/vendor.5f3285ceedc6f1b7143b.js\"></script>\n",
       "<script src=\"//t1.daumcdn.net/harmony_static/cloud/2020/09/17/common.02e51d37fbd4eb973bb8.js\"></script>\n",
       "<script src=\"//t1.daumcdn.net/harmony_static/cloud/2020/09/17/components.21fc0700278d03c33a95.js\"></script>\n",
       "<script src=\"//t1.daumcdn.net/kas/static/ba.min.js\"></script>\n",
       "<script src=\"//m1.daumcdn.net/svc/original/U03/cssjs/userAgent/userAgent-1.0.12.min.js\"></script>\n",
       "<script>\"use strict\"; function _instanceof(left, right) { if (right != null && typeof Symbol !== \"undefined\" && right[Symbol.hasInstance]) { return !!right[Symbol.hasInstance](left); } else { return left instanceof right; } } function _classCallCheck(instance, Constructor) { if (!_instanceof(instance, Constructor)) { throw new TypeError(\"Cannot call a class as a function\"); } } function _defineProperties(target, props) { for (var i = 0; i < props.length; i++) { var descriptor = props[i]; descriptor.enumerable = descriptor.enumerable || false; descriptor.configurable = true; if (\"value\" in descriptor) descriptor.writable = true; Object.defineProperty(target, descriptor.key, descriptor); } } function _createClass(Constructor, protoProps, staticProps) { if (protoProps) _defineProperties(Constructor.prototype, protoProps); if (staticProps) _defineProperties(Constructor, staticProps); return Constructor; } (function () { var weatherLayer = document.querySelector('.gnb_weather'); var weatherList = weatherLayer.querySelector('ul'); var weatherApiUrl = \"\".concat(Conf.api.hadesRest, \"/pc_weather\"); axios.get(weatherApiUrl).then(function (res) { var _res$data$body$data = res.data.body.data, isNightIconYn = _res$data$body$data.isNightIconYn, weatherData = _res$data$body$data.weatherData; weatherList.dataset.nightyn = isNightIconYn; weatherList.innerHTML = weatherData.map(function (_ref) { var weatherIconCode = _ref.weatherIconCode, specialRegionName = _ref.specialRegionName, temperature = _ref.temperature; return \"\\n <li>\\n <a href=\\\"http://search.daum.net/search?nil_suggest=btn&amp;w=tot&amp;DA=SBC&amp;q=\".concat(specialRegionName, \"%20\\uB0A0\\uC528\\\" class=\\\"link_cont\\\">\\n <span class=\\\"ico_weather ico_weather\").concat(weatherIconCode, \"\\\">\").concat(specialRegionName, \"</span> \\n <span class=\\\"txt_weather\\\">\").concat(specialRegionName, \"\\n <span class=\\\"num_heat\\\">\").concat(temperature, \"</span> \\n <span class=\\\"txt_heat\\\">\\u2103</span>\\n </span>\\n </a>\\n </li>\\n \"); }).join(''); var newsTicker = new NewsTicker(weatherList); }).catch(function (error) { removeWeatherLayer(); }); var NewsTicker = /*#__PURE__*/ function () { function NewsTicker(list) { _classCallCheck(this, NewsTicker); this.PAUSE_TIME = 4000; this.TRANSITION_TIME = 500; this.list = list; this.frameId = null; this.pause = this.pause.bind(this); this.start = this.start.bind(this); this.moveUp = this.moveUp.bind(this); this.init(); this.start(); this.list.style.marginTop = '0px'; } _createClass(NewsTicker, [{ key: \"start\", value: function start() { this.frameId = setInterval(this.moveUp, this.PAUSE_TIME); } }, { key: \"pause\", value: function pause() { clearInterval(this.frameId); } }, { key: \"moveUp\", value: function moveUp() { var list = this.list; var clone = list.firstElementChild.cloneNode(true); list.classList.add('slidein'); list.style.marginTop = '-30px'; setTimeout(function () { list.classList.remove('slidein'); list.style.marginTop = '0px'; list.removeChild(list.firstElementChild); list.appendChild(clone); }, this.TRANSITION_TIME); } }, { key: \"init\", value: function init() { var list = this.list; list.addEventListener('mouseenter', this.pause); list.addEventListener('mouseleave', this.start); } }]); return NewsTicker; }(); function removeWeatherLayer() { weatherLayer.parentNode.removeChild(weatherLayer); } })();</script>\n",
       "<script>\"use strict\"; (function () { var serviceParams = ''; var categoryName = serviceParams.indexOf('tv_news') > -1 ? 'tv' : 'society'; var gnb = document.querySelector('.gnb_comm'); var currentCategory = categoryName && gnb.querySelector(\".\".concat(categoryName)); currentCategory && currentCategory.setAttribute('class', \"\".concat(categoryName, \" on\")); })();</script>\n",
       "<script src=\"https://t1.daumcdn.net/cssjs/jquery/jquery-1.9.0.min.js\"></script>\n",
       "<script src=\"https://search1.daumcdn.net/search/suggest_pc/suggest-1.2.16.min.js\"></script>\n",
       "<script>\"use strict\"; (function ($) { var SUGGEST_APP_KEY = 'd7022f6ca2a04430ce1b97b922da58e8'; var searchLayer = document.getElementById('search_news'); var suggestInstance = new suggest.Suggest(document.getElementById(\"search_news\"), { inputEl: 'qVal', suggestBoxEl: 'suggestBox', autoFocus: 'NORMAL', suggestLimit: 10, isReverse: false, searchURL: 'https://search.daum.net/search', APIServer: { host: '//dapi.kakao.com/suggest/v2/pc.json', apiType: suggest.Suggest.APITYPE.DAPISUGGEST, appkey: SUGGEST_APP_KEY, queries: { 'mod': 'json', 'code': 'utf_in_out' } } }); /* 추천 검색어 마우스 클릭시 검색으로 보낸다. */ suggestInstance.on('click-item', function () { var kakaoSearch = document.getElementById('kakaoSearch'); kakaoSearch.querySelector(\"input[name='DA']\").value = '23B'; kakaoSearch.submit(); }); var queryInput = document.getElementById('qVal'); if (queryInput.addEventListener) { queryInput.addEventListener('focus', function (event) { event && event.preventDefault(); if (queryInput.value.length >= 0) { queryInput.parentNode.classList.add('search_on'); } }); queryInput.addEventListener('blur', function (event) { event && event.preventDefault(); if (queryInput.value.length === 0) { queryInput.parentNode.classList.remove('search_on'); } }); } else { /* ie */ queryInput.attachEvent('onfocus', function (event) { event && (event.preventDefault ? event.preventDefault() : event.returnValue = false); if (queryInput.value.length >= 0) { queryInput.parentNode.setAttribute('class', 'box_searchbar search_on'); } }); queryInput.attachEvent('onblur', function (event) { event && (event.preventDefault ? event.preventDefault() : event.returnValue = false); if (queryInput.value.length === 0) { queryInput.parentNode.setAttribute('class', 'box_searchbar'); } }); } })(jQuery);</script>\n",
       "<script src=\"//t1.daumcdn.net/daumtop_deco/socialshare/socialshare_nocss_pc-2.3.1.js\"></script>\n",
       "<script>\"use strict\"; (function () { var paragraphs = document.body.querySelectorAll(\".layer_summary p\"); var summaryLayer = document.body.querySelector('.util_summary'); var summaryButton = summaryLayer.querySelector('.btn_summary'); var summaryLayerStatus = false; function showLayer() { summaryLayer.classList.add('layer_open'); summaryButton.setAttribute('aria-expanded', true); window.addEventListener('click', checkLayer); } function hideLayer() { summaryLayerStatus = false; summaryLayer.classList.remove('layer_open'); summaryButton.setAttribute('aria-expanded', false); } function checkLayer(e) { if (summaryButton === e.target || summaryButton.children[0] === e.target) return false; hideLayer(); window.removeEventListener('click', checkLayer); } paragraphs.forEach(function (p) { return p.classList.add(\"desc_news\"); }); summaryButton.addEventListener('click', function (e) { summaryLayerStatus = !summaryLayerStatus; summaryLayerStatus ? showLayer() : hideLayer(); }); summaryLayer.addEventListener('focusin', function (e) { showLayer(); }); summaryLayer.addEventListener('focusout', function (e) { hideLayer(); }); })();</script>\n",
       "<script>\"use strict\"; function _slicedToArray(arr, i) { return _arrayWithHoles(arr) || _iterableToArrayLimit(arr, i) || _nonIterableRest(); } function _nonIterableRest() { throw new TypeError(\"Invalid attempt to destructure non-iterable instance\"); } function _iterableToArrayLimit(arr, i) { if (!(Symbol.iterator in Object(arr) || Object.prototype.toString.call(arr) === \"[object Arguments]\")) { return; } var _arr = []; var _n = true; var _d = false; var _e = undefined; try { for (var _i = arr[Symbol.iterator](), _s; !(_n = (_s = _i.next()).done); _n = true) { _arr.push(_s.value); if (i && _arr.length === i) break; } } catch (err) { _d = true; _e = err; } finally { try { if (!_n && _i[\"return\"] != null) _i[\"return\"](); } finally { if (_d) throw _e; } } return _arr; } function _arrayWithHoles(arr) { if (Array.isArray(arr)) return arr; } (function () { var ttsPlayerSrcMap = { slow_Male: \"http://k-v1.kakaocdn.net/dn/k6QUJ/btqJ92MZ5VZ/Y2vMjufUmeR9OMWXIivld1/original.m4a\", normal_Male: \"http://k-v1.kakaocdn.net/dn/g4oab/btqJ6dhdKXn/HmncZKznmSxaKZSLMIIcXk/original.m4a\", fast_Male: \"http://k-v1.kakaocdn.net/dn/g0zoL/btqJ8fZ99sB/v8S4Gnu4dRv6BZ0u2RCb70/original.m4a\", slow_Female: \"http://k-v1.kakaocdn.net/dn/dVK1tk/btqJZmsZeqi/PqK5NJE0Tmt5kpuiDNGzOk/original.m4a\", normal_Female: \"http://k-v1.kakaocdn.net/dn/rDlN1/btqJ3h5u5Hq/CwE7rYuCplj8FrjT4iq8f0/original.m4a\", fast_Female: \"http://k-v1.kakaocdn.net/dn/eEemsA/btqJ0n6aqXL/fMnk6XidZgZqJ86QDMNkv0/original.m4a\" }; var TTS_COOKIE_NAME = 'VIEW_TTS'; var $elements = document.body.querySelector('.tts_btn'); var ttsPlayer = $elements.querySelector('#ttsPlayer'); function ttsOptionsSourceKey() { var checkedSpeed = $elements.querySelector('input[name=ttsSpeed]:checked').value; var checkedGender = $elements.querySelector('input[name=ttsGender]:checked').value; return \"\".concat(checkedSpeed, \"_\").concat(checkedGender); } function ttsPlayerSrcSet() { var key = ttsOptionsSourceKey(); ttsPlayer.setAttribute('src', ttsPlayerSrcMap[key]); Cookies.set(TTS_COOKIE_NAME, '', { expires: -1 }); Cookies.set(TTS_COOKIE_NAME, key, { domain: '.v.daum.net', expires: new Date(new Date() * 1 + 365 * 864e+5) }); } var textLayer = $elements.querySelector('.ico_speak'); function ttsPlayerControl(control) { if (control == \"playOptions\") { ttsPlayerSrcSet(); ttsPlayer.load(); ttsPlayer.play(); textLayer.textContent = '음성 기사 정지'; } else if (control == \"play\") { ttsPlayer.load(); ttsPlayer.play(); textLayer.textContent = '음성 기사 정지'; } else { ttsPlayer[control](); textLayer.textContent = '음성 기사 듣기'; } } var btnTtsLayer = $elements; var btnTtsClick = $elements.querySelector('.btn_tts'); var ttsInputs = $elements.querySelectorAll('.list_tts input'); var subLayer = $elements.querySelector('.wrap_setlayer'); accessibleLayer({ layer: btnTtsLayer, btn: btnTtsClick, inputs: ttsInputs }); function accessibleLayer(options) { var layer = options.layer, btn = options.btn, inputs = options.inputs; var tid; var isMouseOn = false; function showLayer() { clearTimeout(tid); layer.classList.add('layer_open'); btn.setAttribute('aria-expanded', true); } function hideLayer() { layer.classList.remove('layer_open'); btn.setAttribute('aria-expanded', false); } function delayHideLayer() { tid = setTimeout(hideLayer, 1); } function checkMouseAndHideLayer() { if (!isMouseOn) delayHideLayer(); } layer.addEventListener('mouseover', function () { isMouseOn = true; showLayer(); }); layer.addEventListener('mouseleave', function () { isMouseOn = false; hideLayer(); }); btn.addEventListener('focus', showLayer); btn.addEventListener('blur', checkMouseAndHideLayer); inputs.forEach(function (input) { input.addEventListener('focus', showLayer); input.addEventListener('blur', checkMouseAndHideLayer); }); } accessibleInput({ options: $elements.querySelectorAll('.ico_newsview'), inputs: ttsInputs }); function accessibleInput(opt) { var options = opt.options, inputs = opt.inputs; options.forEach(function (option) { option.addEventListener('mouseover', function (event) { this.classList.add('ico_focused'); }); option.addEventListener('mouseleave', function (event) { this.classList.remove('ico_focused'); }); }); inputs.forEach(function (input) { input.addEventListener('focus', function () { this.nextElementSibling.querySelector('span').classList.add('ico_focused'); }); input.addEventListener('blur', function () { this.nextElementSibling.querySelector('span').classList.remove('ico_focused'); }); }); } btnTtsClick.addEventListener('click', function (event) { btnTtsLayer.classList.toggle('on'); if (btnTtsLayer.classList.contains('on')) { ttsPlayerControl('play'); } else { ttsPlayerControl('pause'); } }); ttsPlayer.addEventListener(\"ended\", function (event) { btnTtsLayer.classList.remove('on'); }); ttsInputs.forEach(function (input) { input.addEventListener('change', function (event) { btnTtsLayer.classList.add('on'); ttsPlayerControl('playOptions'); }); }); var ttsCookieValue = Cookies.get(TTS_COOKIE_NAME); if (typeof ttsCookieValue == \"undefined\" || ttsCookieValue.includes(\"undefined\")) { subLayer.querySelector('#ttsGenderMale').checked = true; subLayer.querySelector('#ttsSpeedNormal').checked = true; } else { var _ttsCookieValue$split = ttsCookieValue.split('_'), _ttsCookieValue$split2 = _slicedToArray(_ttsCookieValue$split, 2), speed = _ttsCookieValue$split2[0], gender = _ttsCookieValue$split2[1]; speed = 'ttsSpeed' + speed.charAt(0).toUpperCase() + speed.slice(1); gender = 'ttsGender' + gender; subLayer.querySelector('#' + gender).checked = true; subLayer.querySelector('#' + speed).checked = true; } btnTtsClick.className = \"btn_set btn_tts #util #tts #p_\" + ttsOptionsSourceKey(); ttsPlayerSrcSet(); })();</script>\n",
       "<script>\"use strict\"; (function () { var translatingLayers = document.createElement('DIV'); translatingLayers.innerHTML = \"\\n <div id=\\\"translatingLayer\\\" class=\\\"translate_layer\\\">\\n <div class=\\\"inner_translate_layer\\\">\\n <div class=\\\"layer_body\\\">\\n <strong class=\\\"tit_translate\\\">\\n \\uBC88\\uC5ED\\uC911 <span class=\\\"eng_tit\\\">Now in translation</span>\\n </strong>\\n </div>\\n </div>\\n </div>\\n\\n <div id=\\\"translateErrorLayer\\\" class=\\\"translate_layer\\\">\\n <div class=\\\"inner_translate_layer inner_error_layer\\\">\\n <div class=\\\"layer_body\\\">\\n <span class=\\\"ico_newsview ico_error\\\"></span>\\n <strong class=\\\"tit_translate\\\">\\n \\uC7A0\\uC2DC \\uD6C4 \\uB2E4\\uC2DC \\uC2DC\\uB3C4\\uD574 \\uC8FC\\uC138\\uC694 <span class=\\\"eng_tit\\\">Please try again in a moment</span>\\n </strong>\\n </div>\\n </div>\\n </div>\\n \"; document.body.querySelector(\"#kakaoWrap\").appendChild(translatingLayers); })();</script>\n",
       "<script>\"use strict\"; function _toConsumableArray(arr) { return _arrayWithoutHoles(arr) || _iterableToArray(arr) || _nonIterableSpread(); } function _nonIterableSpread() { throw new TypeError(\"Invalid attempt to spread non-iterable instance\"); } function _iterableToArray(iter) { if (Symbol.iterator in Object(iter) || Object.prototype.toString.call(iter) === \"[object Arguments]\") return Array.from(iter); } function _arrayWithoutHoles(arr) { if (Array.isArray(arr)) { for (var i = 0, arr2 = new Array(arr.length); i < arr.length; i++) { arr2[i] = arr[i]; } return arr2; } } var dmcfLanguage = 'ko'; (function () { var $elements = document.body.querySelector('.translate_btn'); var translateButtonLayer = $elements; var translateButton = $elements.querySelector('.btn_translate'); var translateKakaoILink = $elements.querySelector('.link_kakaoi'); var translateLanguageButtons = $elements.querySelectorAll('.btn_lang'); var translatingLayer = document.body.querySelector('#translatingLayer'); var translateErrorLayer = document.body.querySelector('#translateErrorLayer'); var kakaoWrap = document.body.querySelector('#kakaoWrap'); function hideAllLayers() { translatingLayer.style.display = \"none\"; translateErrorLayer.style.display = \"none\"; document.body.style.overflow = \"\"; } ; function showTranslatingLayer() { hideAllLayers(); translatingLayer.style.display = \"block\"; document.body.style.overflow = \"hidden\"; } ; function showTranslateErrorLayer() { hideAllLayers(); translateErrorLayer.style.display = \"block\"; document.body.style.overflow = \"hidden\"; } ; accessibleLayer({ layer: $elements, btn: translateButton, inputs: [translateKakaoILink].concat(_toConsumableArray(translateLanguageButtons)) }); function accessibleLayer(options) { var layer = options.layer, btn = options.btn, inputs = options.inputs; var tid; var isMouseOn = false; function showLayer() { clearTimeout(tid); layer.classList.add('layer_open'); btn.setAttribute('aria-expanded', true); } function hideLayer() { layer.classList.remove('layer_open'); btn.setAttribute('aria-expanded', false); } function delayHideLayer() { tid = setTimeout(hideLayer, 1); } function checkMouseAndHideLayer() { if (!isMouseOn) delayHideLayer(); } layer.addEventListener('mouseover', function () { isMouseOn = true; showLayer(); }); layer.addEventListener('mouseleave', function () { isMouseOn = false; hideLayer(); }); btn.addEventListener('focus', showLayer); btn.addEventListener('blur', checkMouseAndHideLayer); inputs.forEach(function (input) { input.addEventListener('focus', showLayer); input.addEventListener('blur', checkMouseAndHideLayer); }); } function onTranslate(e) { var sourceLang = \"kr\"; var targetLang = e.currentTarget.name; showTranslatingLayer(); try { HarmonyTranslator.translate(sourceLang, targetLang, onTranslateSuccess, onTranslateError); } catch (error) { console.error('번역 에러:', error); } } function onTranslateSuccess(data) { var translateNotice = document.querySelector(\"#translateNotice\"); var targetLang = data.targetLang; switch (targetLang) { case \"en\": case \"id\": kakaoWrap.classList.add(\"lang_type1\"); kakaoWrap.classList.remove(\"lang_type2\"); kakaoWrap.classList.remove(\"lang_type3\"); break; case \"cn\": case \"jp\": kakaoWrap.classList.remove(\"lang_type1\"); kakaoWrap.classList.add(\"lang_type2\"); kakaoWrap.classList.remove(\"lang_type3\"); break; case \"vi\": kakaoWrap.classList.remove(\"lang_type1\"); kakaoWrap.classList.remove(\"lang_type2\"); kakaoWrap.classList.add(\"lang_type3\"); break; default: kakaoWrap.classList.remove(\"lang_type1\"); kakaoWrap.classList.remove(\"lang_type2\"); kakaoWrap.classList.remove(\"lang_type3\"); break; } if (targetLang == \"kr\") { translateNotice.querySelectorAll(\".notice_lang\").forEach(function (notice) { notice.style.display = 'none'; }); translateNotice.style.display = 'none'; } else { translateNotice.querySelectorAll(\".notice_lang:not(.notice_lang_\".concat(targetLang, \")\")).forEach(function (notice) { notice.style.display = 'none'; }); translateNotice.querySelector(\".notice_lang.notice_lang_\".concat(targetLang)).style.display = 'block'; translateNotice.style.display = 'block'; } setTimeout(function () { hideAllLayers(); }, 500); } function onTranslateError(data, error) { showTranslateErrorLayer(); setTimeout(function () { hideAllLayers(); }, 2000); } translateLanguageButtons.forEach(function (btn) { btn.addEventListener('click', onTranslate); }); })();</script>\n",
       "<script>\"use strict\"; (function () { var KAKAO_APP_KEY = '53e566aa17534bc816eb1b5d8f7415ee'; var newsId = '20201004215700006' || 'AlpqqLPoP8'; var requestUrl = \"\".concat(location.protocol, \"//\").concat(location.host, \"/v/\").concat(newsId); var titleDecoder = document.createElement(\"DIV\"); titleDecoder.innerHTML = '13일부터 마스크 착용 의무화..한 달 계도 후 과태료 10만 원'; var title = titleDecoder.textContent; var KAKAO_LINK_OG_DATA = { shareType: 'sendScrap', shareData: { requestUrl: requestUrl, templateId: 7952, installTalk: true, templateArgs: { '${EncodingUrl}': encodeURIComponent(requestUrl), '${webUrl}': requestUrl + '?f=p', '${mobileWebUrl}': requestUrl + '?f=m' } } }; var $element = document.body.querySelector(\".share_btn\"); var layerBtn = $element.firstElementChild; var layerContainer = layerBtn.nextElementSibling; var layerCloseTid = null; var testShare = new socialshareRenewal.Main(layerBtn, { moreViewContainer: layerContainer, action: 'hover', link: requestUrl, prefix: title, service_name: '다음뉴스', cafe: 'http://scrap.cafe.daum.net/_dss_/scrap?folder_id=100000&source_location_code=10&target_location_code=1&data_id=' + newsId, kakaoAPI: { appkey: KAKAO_APP_KEY, kakaoLinkData: KAKAO_LINK_OG_DATA } }); function hideLayer() { layerCloseTid = setTimeout(function () { $element.classList.remove(\"layer_open\"); layerBtn.setAttribute('aria-expanded', false); testShare.close(); }, 100); } function showLayer() { clearLayerTimeout(); $element.classList.add(\"layer_open\"); layerBtn.setAttribute('aria-expanded', true); testShare.open(); } function clearLayerTimeout() { layerCloseTid && clearTimeout(layerCloseTid); } layerBtn.addEventListener(\"mouseenter\", showLayer); layerBtn.addEventListener(\"focus\", showLayer); layerBtn.addEventListener(\"mouseleave\", hideLayer); layerBtn.addEventListener(\"blur\", hideLayer); layerContainer.addEventListener(\"mouseenter\", clearLayerTimeout); layerContainer.addEventListener(\"mouseleave\", hideLayer); layerContainer.querySelectorAll(\"a\").forEach(function (el) { el.addEventListener(\"focus\", clearLayerTimeout); el.addEventListener(\"blur\", hideLayer); }); })();</script>\n",
       "<script>\"use strict\"; (function () { window.addEventListener('load', initFontSizeUtil); function initFontSizeUtil() { var DEFAULT_FONTSIZE = 17; var FONT_COOKIE_NAME = 'GS_font_size'; var $elements = document.body.querySelector('.font_btn'); var $newsview = document.body.querySelector('.news_view'); var $listFont = $elements.querySelector('.list_font'); var fontSize = Cookies.get(FONT_COOKIE_NAME) || DEFAULT_FONTSIZE; var fontLayer = $elements; var fontBtn = $elements.querySelector('.btn_font'); var radioEls = $elements.querySelectorAll('.list_font input'); accessibleLayer({ layer: fontLayer, btn: fontBtn, inputs: radioEls }); function accessibleLayer(options) { var layer = options.layer, btn = options.btn, inputs = options.inputs; var tid; var isMouseOn = false; function showLayer() { clearTimeout(tid); layer.classList.add('layer_open'); btn.setAttribute('aria-expanded', true); } function hideLayer() { layer.classList.remove('layer_open'); btn.setAttribute('aria-expanded', false); } function delayHideLayer() { tid = setTimeout(hideLayer, 1); } function checkMouseAndHideLayer() { isMouseOn && delayHideLayer(); } layer.addEventListener('mouseover', function () { isMouseOn = true; showLayer(); }); layer.addEventListener('mouseleave', function () { isMouseOn = false; hideLayer(); }); btn.addEventListener('focus', showLayer); btn.addEventListener('blur', checkMouseAndHideLayer); inputs.forEach(function (input) { input.addEventListener('focus', showLayer); input.addEventListener('blur', checkMouseAndHideLayer); }); } accessibleInput({ options: $elements.querySelectorAll('.ico_newsview'), inputs: radioEls }); function accessibleInput(opt) { var options = opt.options, inputs = opt.inputs; options.forEach(function (option) { option.addEventListener('mouseover', function () { this.classList.add('ico_focused'); }); option.addEventListener('mouseleave', function () { this.classList.remove('ico_focused'); }); }); inputs.forEach(function (input) { input.addEventListener('focus', function () { this.nextElementSibling.querySelector('span').classList.add('ico_focused'); }); input.addEventListener('blur', function () { this.nextElementSibling.querySelector('span').classList.remove('ico_focused'); }); }); } function setFontSize(fontSize) { $newsview.style.fontSize = \"\".concat(fontSize, \"px\"); document.body.querySelector(\"#inpFont\".concat(fontSize)).checked = true; $listFont.querySelectorAll('label').forEach(function (labelEl) { return labelEl.classList.remove('on'); }); $listFont.querySelector(\"label[for=inpFont\".concat(fontSize, \"]\")).classList.add('on'); Cookies.set(FONT_COOKIE_NAME, '', { expires: -1 }); Cookies.set(FONT_COOKIE_NAME, fontSize, { domain: '.v.daum.net', expires: new Date(new Date() * 1 + 365 * 864e+5) }); } radioEls.forEach(function (el) { el.addEventListener('change', function () { setFontSize(this.value); }); }); setFontSize(fontSize); } })();</script>\n",
       "<script>\"use strict\"; (function () { var printBtn = document.body.querySelector(\".btn_print\").parentNode; printBtn.addEventListener(\"click\", function (e) { e.preventDefault(); window.open('?s=print_view', 'newsPrint', 'width=750,height=550,scrollbars=yes'); }); })();</script>\n",
       "<script>\"use strict\"; (function () { var likeButton = document.getElementById('likeButton'); var props = { serviceId: 'news', uid: '20201004215700006' }; new window.LikePC.LikeOnPC(likeButton, props); })();</script>\n",
       "<script>\"use strict\"; function cmRenderFailCallBack(arg1) { arg1.parentElement.removeChild(arg1); }</script>\n",
       "<script>\"use strict\"; document.addEventListener('DOMContentLoaded', function () { var hadesRest = \"\".concat(Conf.api.hadesRest); var serviceNoticeId = \"3393\"; var apiUrl = hadesRest + \"/service_notice?id=\" + serviceNoticeId; var element = document.querySelector(\"#newsviewNotice\"); axios.get(apiUrl).then(function (response) { var _response$data$body$d = response.data.body.data, noticeTitle = _response$data$body$d.noticeTitle, noticeUrl = _response$data$body$d.noticeUrl; if (noticeTitle !== null) { element.innerHTML = \"<strong class=\\\"tit_notice\\\">\\uACF5\\uC9C0</strong><span class=\\\"txt_notice\\\"><a href=\\\"\".concat(noticeUrl, \"\\\" class=\\\"link_txt\\\">\").concat(noticeTitle, \"</a></span>\"); } else { element.parentNode.removeChild(element); } }).catch(function (error) { console.log(\"댓글 공지 오류: \" + error); element.parentNode.removeChild(element); }); });</script>\n",
       "<script src=\"//comment.daum.net/js/latest/alex.single.min.js\"></script>\n",
       "<script>\"use strict\"; (function () { window.excludeCorejs = false; window.alexConfig = { label: { emptyImage: '//i1.daumcdn.net/img-section/enter2013/liveviewer/pc_emot_co.gif' }, onLoad: function onLoad() { window.isLoadComment = true; } }; })();</script>\n",
       "<script>\"use strict\"; (function () { var popularNewsLayer = document.querySelector('.aside_popular'); var tabs = document.querySelectorAll(\".tab_aside li a\"); var serviceId = \"news\"; var tabEngName = { \"뉴스\": \"news\", \"연예\": \"entertain\", \"스포츠\": \"sports\" }; var tabInfos = { \"news\": { el: tabs[0], korName: \"뉴스\", moreLink: \"https://news.daum.net/ranking/popular/all\" }, \"entertain\": { el: tabs[1], korName: \"연예\", moreLink: \"https://entertain.daum.net/ranking/popular\" }, \"sports\": { el: tabs[2], korName: \"스포츠\", moreLink: \"https://sports.daum.net/news/ranking\" } }; var activeTab = tabInfos[serviceId].el; var pageIndex = 1; getContents(tabInfos); tabs.forEach(function (tab) { tab.addEventListener(\"mouseover\", function (e) { return selectTab(e.target); }); tab.addEventListener(\"focus\", function (e) { return selectTab(e.target); }); }); function selectTab(tab) { if (activeTab !== tab) { var activeContents = activeTab.parentNode.querySelector(\".cont_aside\"); activeContents && activeContents.parentNode.removeChild(activeContents); activeTab.parentNode.classList.remove(\"on\"); tab.parentNode.classList.add(\"on\"); pageIndex = 1; changeContents(tab); activeTab = tab; } } function changeContents(tab) { var korName = tab.innerText; var engName = tabEngName[korName]; var moreLink = tabInfos[engName].moreLink; var contentsContainer = document.createElement(\"div\"); var contentsItems = renderedTenContentsOf(engName); contentsContainer.classList.add(\"cont_aside\"); contentsContainer.innerHTML = \"\\n <strong class=\\\"screen_out\\\">\".concat(korName, \"</strong>\\n <ol class=\\\"list_ranking\\\">\\n \").concat(contentsItems, \" \\n </ol>\\n <div class=\\\"util_aside\\\">\\n <button class=\\\"btn_slide btn_prev\\\"><span class=\\\"ico_newsview\\\">\\uC774\\uC804</span></button>\\n <button class=\\\"btn_slide btn_next\\\"><span class=\\\"ico_newsview\\\">\\uB2E4\\uC74C</span></button>\\n <a href=\").concat(moreLink, \" class=\\\"link_all\\\"><span class=\\\"txt_newsview\\\">\\uC804\\uCCB4 \\uBCF4\\uAE30</span><span class=\\\"ico_newsview\\\"></span></a>\\n </div>\\n \"); tab.parentNode.appendChild(contentsContainer); contentsContainer.querySelector(\".btn_prev\").addEventListener('click', onClick); contentsContainer.querySelector(\".btn_next\").addEventListener('click', onClick); function onClick() { var contentsItems = document.querySelector(\".cont_aside .list_ranking\"); var korName = activeTab.innerText; var engName = tabEngName[korName]; if (this.classList.contains(\"btn_prev\")) { pageIndex = pageIndex === 1 ? 3 : pageIndex - 1; } else { pageIndex = pageIndex === 3 ? 1 : pageIndex + 1; } contentsItems.innerHTML = renderedTenContentsOf(engName); } } function renderedTenContentsOf(engName) { return tabInfos[engName].contents.slice((pageIndex - 1) * 10, pageIndex * 10).map(function (item) { return \"\\n <li>\\n <em class=\\\"num_newsview num\".concat(item.index, \"\\\">\").concat(item.index, \"\\uC704</em>\\n <strong class=\\\"tit_g\\\"><a href=\\\"\").concat(item.pcLink, \"\\\" class=\\\"link_txt @\").concat(item.index, \"\\\">\").concat(item.title, \"</a></strong>\\n </li>\\n \"); }).join(''); } function getContents(tabInfos) { var api = \"\".concat(Conf.api.hadesRest, \"/pc_popular_news?size=30\"); axios.get(api).then(function (response) { var popularNewsData = response.data.body.data; Object.keys(popularNewsData).forEach(function (serviceId) { tabInfos[serviceId].contents = popularNewsData[serviceId]; }); changeContents(activeTab); popularNewsLayer.classList.remove('hide'); }).catch(function (error) { popularNewsLayer.parentNode.removeChild(popularNewsLayer); }); } })();</script>\n",
       "<script>\"use strict\"; (function () { var photoTvLayer = document.querySelector('.aside_phototv'); var PHOTO_TPL = '<li>\\ <a class=\"link_cont\" href=\"<%= link %>\">\\ <span class=\"wrap_thumb\">\\ <img alt=\"<%= title %>\" class=\"thumb_g\" style=\"<%= thumbStyle %>\" src=\"<%= image %>\"/>\\ <span class=\"ico_phototv\">\\ <span class=\"ico_newsview ico_photo\">포토</span>\\ </span>\\ </span>\\ <strong class=\"tit_thumb\"><%= title %></strong>\\ </a>\\ </li>'; var TV_TPL = '<li>\\ <a class=\"link_cont\" href=\"<%= link %>\">\\ <span class=\"wrap_thumb\">\\ <img alt=\"<%= title %>\" class=\"thumb_g\" style=\"<%= thumbStyle %>\" src=\"<%= image %>\"/>\\ <span class=\"ico_phototv\">\\ <span class=\"ico_newsview ico_vod\">영상</span>\\ </span>\\ </span>\\ <strong class=\"tit_thumb\"><%= title %></strong>\\ </a>\\ </li>'; renderPhotoTV(); function renderPhotoTV() { var photoTvList = photoTvLayer.querySelector('.list_phototv'); var hadesRest = \"\".concat(Conf.api.hadesRest), serviceId = 'news', apiURL = serviceId === 'news' ? \"\".concat(hadesRest, \"/pc_photo_tv\") : \"\".concat(hadesRest, \"/pc_entertain_photo_tv\"); var thumbStyle = serviceId === 'news' ? 'width: 144px; height: 140px;' : 'width: 144px; height: 139px;'; axios.get(apiURL).then(function (res) { var data = res.data.body.data; if (_.isEmpty(data)) { removeLayer(); return; } photoTvList.innerHTML = data.map(function (_ref) { var link = _ref.link, title = _ref.title, image = _ref.image, label = _ref.label; if (label === 'photo') { return _.template(PHOTO_TPL)({ link: link, title: title, image: image, thumbStyle: thumbStyle }); } else { /* 'vod' */ return _.template(TV_TPL)({ link: link, title: title, image: image, thumbStyle: thumbStyle }); } }).join(''); photoTvLayer.classList.remove('hide'); }).catch(function (error) { console.error('[포토&TV]:', error); removeLayer(); }); } function removeLayer() { photoTvLayer.parentNode.removeChild(photoTvLayer); } })();</script>\n",
       "<script>\"use strict\";try{ComponentsLoader.RenderingEngineConfig.set(\"pc_realtime_news\",{torosQuery:{category:\"news\",itemid:\"20201004215700006\"}})}catch(e){console.error(e)}</script>\n",
       "<script>\"use strict\"; window.daum_sfocus_adunit = 'DAU-f6a75279b'; window.daum_sfocus_cp = '23' + '_pc_media_news'; window.daum_sfocus_channel = 'harmony';</script>\n",
       "<script src=\"//keyword.ad.daum.net/script/load_sfocus.js\"></script>\n",
       "<script>\"use strict\"; (function () { var directLinkContainer = document.querySelector(\".direct_link\"); var directOpenBtn = directLinkContainer.querySelector(\".btn_fold\"); directOpenBtn.addEventListener('click', function () { directLinkContainer.classList.toggle(\"direct_open\"); }); })();</script>\n",
       "<script>\"use strict\"; window.minidaum_options = { enableLogoutRetun: true, disableTracker: true };</script>\n",
       "<script src=\"https://go.daum.net/minidaum_pc.daum\"></script>\n",
       "<script>\"use strict\"; (function () { var channel = 'harmony'; var cpId = \"23\"; var device = \"pc\"; var consumerId = \"media\"; var serviceId = \"news\"; document.querySelectorAll('.kakao_ad_area').forEach(function (adArea) { adArea.setAttribute('data-ad-param-channel', channel); adArea.setAttribute('data-ad-param-cp', \"\".concat(cpId, \"_\").concat(device, \"_\").concat(consumerId, \"_\").concat(serviceId)); }); })();</script>\n",
       "<script src=\"https://t1.daumcdn.net/adfit/static/ad.min.js\"></script>\n",
       "<script>\"use strict\"; (function () { var isTvNews = 'false' == 'true'; var serviceId = 'news'; var headMedia = document.querySelector(\".head_media\"), wrapMinidaum = document.getElementById(\"wrapMinidaum\"), headHeight = wrapMinidaum.offsetHeight + headMedia.offsetHeight, progressBar = document.getElementById(\"barProgress\"); var mAside = document.getElementById(\"mAside\"), kakaoWrap = document.getElementById(\"kakaoWrap\"), kakaoGnb = document.getElementById(\"kakaoGnb\"), mArticle = document.getElementById(\"mArticle\"), cmNews = document.querySelector(\".cmt_news\"), adFirst = document.querySelector(\".aside_ad:first-child\"), adLast = document.querySelector(\".aside_ad:last-child\"), realtimeAsideEl = document.getElementById('realtime_aside'); /* 날개 픽스드인 경우 left 위치를 지정하기 위해 하단 실시간 검색어의 left 값을 이용. 만약 없으면 계산을 한다. */ /* 서비스별 GNB 또는 날개 플로팅 */ if (isTvNews) { window.addEventListener(\"scroll\", _.throttle(function () { floatGnb(); }, 100)); floatGnb(); } else if (serviceId === 'news') { window.addEventListener(\"resize\", _.throttle(floatWing, 100)); window.addEventListener(\"scroll\", _.throttle(function () { floatGnb(); floatWing(); }, 100)); floatGnb(); floatWing(); } else { window.addEventListener(\"scroll\", _.throttle(function () { floatGnb(); }, 100)); floatGnb(); } function floatGnb() { var scrollY = window.scrollY || window.pageYOffset; var currentScrollTop = scrollY; var documentHeight = document.body.offsetHeight; var windowHeight = window.innerHeight; if (currentScrollTop > headHeight) { var scrollPercent = 100 * currentScrollTop / (documentHeight - windowHeight); kakaoWrap.classList.add(\"header_fixed\"); progressBar.style.width = parseInt(scrollPercent, 10) + \"%\"; } else { kakaoWrap.classList.remove(\"header_fixed\"); } } function floatWing() { var scrollX = window.scrollX || window.pageXOffset; var cMainWidth = cMain.clientWidth, mArticleWidth = mArticle.clientWidth, mAsideWidth = mAside.clientWidth, asideGap = cMainWidth - mArticleWidth - mAsideWidth, cMainStyle = getComputedStyle(cMain); var leftOfRealtimeAside = null; if (realtimeAsideEl) { var clientLeftOfRealtimeAside = realtimeAsideEl.getBoundingClientRect().left; leftOfRealtimeAside = clientLeftOfRealtimeAside < 880 ? clientLeftOfRealtimeAside + scrollX : clientLeftOfRealtimeAside; } else { var cMainMarginLeft = parseInt(cMainStyle['marginLeft'], 10); leftOfRealtimeAside = mArticleWidth + asideGap + cMainMarginLeft - scrollX; } if (mArticle.offsetHeight < mAside.offsetHeight) return; cmNews.style.minHeight = '250px'; var scrollY = window.scrollY || window.pageYOffset; var topPosition = scrollY - cMain.offsetTop - 8 - adFirst.clientHeight; if (topPosition > 0) { var articleHeight = mArticle.offsetHeight - cmNews.offsetHeight; var wingHeight = mAside.offsetHeight - adLast.offsetHeight; /* 스크롤이 날개영역의 많이 본 뉴스를 넘어갔을 때 */ if (articleHeight > wingHeight + topPosition + 8) { mAside.style.position = 'fixed'; mAside.style.top = kakaoGnb.clientHeight - adFirst.offsetHeight - 74 + 'px'; mAside.style.left = leftOfRealtimeAside + 'px'; } else { mAside.style.position = 'relative'; mAside.style.top = articleHeight - wingHeight + 'px'; mAside.style.left = 'inherit'; } } else { mAside.style.position = 'static'; mAside.style.top = 'inherit'; mAside.style.left = 'inherit'; } } ; })();</script>\n",
       "<script>\"use strict\"; (function () { var GALLERY_ICON_TEMPLATE = '<div class=\"direct_view\" style=\"top:<%= top %>px;width:<%= width %>px;margin-left:<%= left %>px\">\\ <a href=\"<%= url %>\" class=\"link_view\">\\ <span class=\"txt_g\"><%= title %></span>\\ <span class=\"ico_view\">\\ <span class=\"ico_newsview ico_gallery\">갤러리 이동</span>\\ </span>\\ </a>\\ </div>'; var addIconOnFirstImage = function addIconOnFirstImage(figureEl, _ref) { var title = _ref.title, pcLink = _ref.pcLink; if (!title || !pcLink) { return; } var imgHeight = figureEl.clientHeight; var imgWidth = figureEl.clientWidth; var templateParams = { title: title, url: pcLink, top: imgHeight - 62, width: imgWidth, left: imgWidth / 2 * -1 }; var icon = document.createElement('div'); figureEl.parentNode.appendChild(icon); icon.outerHTML = _.template(GALLERY_ICON_TEMPLATE)(templateParams); }; var addRelatedGalleryLinkToFirstImage = async function addRelatedGalleryLinkToFirstImage(docId, galleryId) { if (!galleryId) { return; } /* image가 존재하고 영상바로보기가 아니라면 */ var imageEl = document.querySelector('img[dmcf-mtype=\"image\"]'); if (imageEl && !imageEl.querySelector('.direct_vod')) { try { var _ref2 = await axios.get(\"\".concat(Conf.api.hadesRest, \"/photo_gallery_link_info?docId=\").concat(docId, \"&galleryId=\").concat(parseInt(galleryId, 10))), data = _ref2.data.body.data; addIconOnFirstImage(imageEl, data); } catch (error) {} } }; addRelatedGalleryLinkToFirstImage('AlpqqLPoP8', ''); })();</script>\n",
       "<script src=\"//search1.daumcdn.net/search/statics/common/js/g/search_dragselection.min.js\"></script>\n",
       "<script>\"use strict\"; (function () { var service_id = \"\"; switch (\"news\") { case 'sports': service_id = 's'; break; case 'entertain': service_id = 'e'; break; default: service_id = 'n'; } var s2Imps = \"{\\\"timestamp\\\":@@timestamp@@,\\\"to\\\":\\\"20201004215700006\\\",\\\"label\\\":\\\"mediadaum_v2_user_doc_read\\\",\\\"from\\\":\\\"@@userKey@@\\\",\\\"props\\\":{\\\"service_id\\\":\\\"\".concat(service_id, \"\\\",\\\"category\\\":\\\"사회\\\",\\\"view_from\\\":\\\"others\\\",\\\"url\\\":\\\"\").concat(location.href, \"\\\" @@mediadaum_v2_user_doc_read@@}}\"); /* todo: hades s2 그래프 검증 끝나면 주석 방식으로 변경 axios.get(`${Conf.api.hadesProxy}/s2/insert?body=${encodeURIComponent(s2Imps)}`, { withCredentials: true }); */ setTimeout(function () { axios.get(\"https://api.v.daum.net/s2/insert?body=\".concat(encodeURIComponent(s2Imps)), { withCredentials: true }); }, 2000); })();</script>\n",
       "<script src=\"//t1.daumcdn.net/tiara/js/v1/tiara.min.js\" type=\"text/javascript\"></script>\n",
       "<script>\"use strict\"; (function () { if (!window.TiaraTracker) { return; } var isSendTracker = false; var startTime = new Date(); var pageName = \"pc_news\"; var daumTopCookie = Cookies.get('DAUMTOP'); var tiaraTracker = TiaraTracker.getInstance().setSvcDomain(\"media.daum.net\").setPage(\"newsview\").trackPage(\"newsview\").setSection(\"society\").setEnableAlwaysImage(true); var pageMeta = { \"id\": \"20201004215700006\", \"type\": \"article\", \"name\": \"13\\uC77C\\uBD80\\uD130 \\uB9C8\\uC2A4\\uD06C \\uCC29\\uC6A9 \\uC758\\uBB34\\uD654..\\uD55C \\uB2EC \\uACC4\\uB3C4 \\uD6C4 \\uACFC\\uD0DC\\uB8CC 10\\uB9CC \\uC6D0\", \"category_id\": \"1067\", \"category\": \"society\", \"author\": \"\\uAE40\\uC7A5\\uD558\", \"author_id\": \"\", \"provider\": \"YTN\", \"provider_id\": \"23\", \"regdate\": \"2020-10-04 21:57:00\", \"plink\": \"https://media.daum.net/v/20201004215700006\", \"image\": \"https://t1.daumcdn.net/news/202010/04/YTN/20201004215808712mdqs.jpg\", \"harmony_consumer_id\": \"media\", \"media\": \"pcweb\" }; var customProps = { \"contentUniqueKey\": \"hamny-\".concat(pageMeta.id), \"docId\": \"AlpqqLPoP8\", \"harmony_consumer_id\": \"media\", \"media\": \"pcweb\", \"reg_dt\": \"2020-10-04 21:57:00\", \"reg_timestamp\": \"1601816220296\" }; var onPageShow = function onPageShow() { if (isSendTracker) return; tiaraTracker.actionKind(\"ViewContent\").pageMeta(pageMeta).customProps(customProps).track(); }; var onPageHide = function onPageHide() { if (isSendTracker) return; isSendTracker = true; var scrollHeight = document.body.scrollHeight; var scrollTop = window.scrollY; var scrollBottom = scrollHeight - scrollTop; var scrollInnerHeight = window.innerHeight; var scrollPercent = Math.round(scrollTop / (scrollHeight - scrollInnerHeight) * 100); var torosCustomProps = {}; var usage = { \"duration\": new Date().getTime() - startTime.getTime(), \"scroll_percent\": scrollPercent, \"scroll_height\": scrollHeight, \"scroll_top\": scrollTop, \"scroll_bottom\": scrollBottom, \"scroll_inner_height\": scrollInnerHeight }; if (daumTopCookie) { try { var daumTopObj = JSON.parse(daumTopCookie); if (daumTopObj.contents_unique_key === customProps.contentUniqueKey) { torosCustomProps = { \"toros_imp_id\": daumTopObj.impression_id, \"toros_file_hash_key\": daumTopObj.toros_file_hash_key, \"toros_user_id_type\": \"uuid\", \"toros_page_meta_id\": customProps.contentUniqueKey, \"toros_event_meta_id\": customProps.contentUniqueKey, \"toros_action_type\": \"dwelltime\" }; Cookies.remove('DAUMTOP', { path: '/', domain: '.daum.net' }); } } catch (e) {} } tiaraTracker.trackUsage().actionKind(\"UsagePage\").pageMeta(pageMeta).usage(usage).customProps(_.assignIn(customProps, torosCustomProps)).track(); }; if (\"onpagehide\" in window) { window.addEventListener(\"pageshow\", function () { return onPageShow(); }, false); window.addEventListener(\"pagehide\", function () { return onPageHide(); }, false); } else { window.addEventListener(\"load\", function () { return onPageShow(); }, false); window.addEventListener(\"unload\", function () { return onPageHide(); }, false); } document.addEventListener(\"visibilitychange\", function () { document[\"hidden\"] ? onPageHide() : onPageShow(); }, false); document.addEventListener(\"mousedown\", function (event) { var target = event.target; var component = target.closest(\"[data-cloud]\"); var element = target.closest(\"a\") || target.closest(\"button\"); if (element && component && component.contains(element)) { var clickInfo = TiaraTracker.getClickInfo(event); if (!clickInfo) return; /* 무시해야 할 클릭 버튼이거나, 자동 클릭 항목이 설정되어있지 않을 경우 null 반환하기 떄문에 체크 */ var action = clickInfo.action; var actionName = action && action.name ? action.name : \"\"; var actionKind = action && action.kind ? action.kind : \"\"; var mergedCustomProps = _.assignIn(customProps, clickInfo.customProps); var tiaraLayer = target.closest(\"[data-tiara]\"); var img = element.querySelector(\"img\"); var ordnum = 0; Array.from((component || tiaraLayer).querySelectorAll(\"a, button\")).map(function (e, idx) { if (e == element) { ordnum = idx; } }); var clickMeta = { \"layer1\": pageName, \"layer2\": component.dataset.cloud, \"layer3\": tiaraLayer ? tiaraLayer.dataset.tiara : \"\", \"click_url\": element.href || \"\", \"ordnum\": ordnum, \"copy\": element.innerText, \"image\": img ? img.src : \"\", \"posX\": event.clientX, \"posY\": event.clientY }; tiaraTracker.trackEvent(actionName).pageMeta(pageMeta).actionKind(actionKind).customProps(mergedCustomProps).click(clickMeta).track(); } }); })();</script>\n",
       "</body>\n",
       "</html>"
      ]
     },
     "execution_count": 10,
     "metadata": {},
     "output_type": "execute_result"
    }
   ],
   "source": [
    "soup"
   ]
  },
  {
   "cell_type": "markdown",
   "metadata": {},
   "source": [
    "## BeautifulSoup의 메서드 활용해서 원하는 데이터 뽑기"
   ]
  },
  {
   "cell_type": "markdown",
   "metadata": {},
   "source": [
    "### 1) 기사 타이틀 가져오기\n",
    "- find(태그명)\n",
    "- 위에 방법 안되면 select"
   ]
  },
  {
   "cell_type": "code",
   "execution_count": 44,
   "metadata": {},
   "outputs": [
    {
     "data": {
      "text/plain": [
       "'13일부터 마스크 착용 의무화..한 달 계도 후 과태료 10만 원'"
      ]
     },
     "execution_count": 44,
     "metadata": {},
     "output_type": "execute_result"
    }
   ],
   "source": [
    "# find(태그명): title 태그 잘 사용했으니, select로 따로 부르지 않아도 된다.(다행)\n",
    "soup.find('title').text"
   ]
  },
  {
   "cell_type": "code",
   "execution_count": null,
   "metadata": {},
   "outputs": [],
   "source": []
  },
  {
   "cell_type": "markdown",
   "metadata": {},
   "source": [
    "### 2) 언론사 이름 가져오기\n",
    "\n",
    "기사 끝나는 하단에 **(언론사 이름) 주요 뉴스** 섹션이 있다.\n",
    "\n",
    "이 부분을 검사해서 가져와보자\n",
    "\n",
    "-> 문장으로 출력돼서 후 가공 필요하다."
   ]
  },
  {
   "cell_type": "code",
   "execution_count": 14,
   "metadata": {},
   "outputs": [
    {
     "data": {
      "text/plain": [
       "[<strong class=\"tit_cp\">YTN 주요 뉴스<span class=\"info_cp\">해당 언론사로 연결됩니다.</span></strong>]"
      ]
     },
     "execution_count": 14,
     "metadata": {},
     "output_type": "execute_result"
    }
   ],
   "source": [
    "# copy selector 로 가져옴\n",
    "soup.select('#mArticle > div.foot_view > div.cp_view > strong')"
   ]
  },
  {
   "cell_type": "code",
   "execution_count": 20,
   "metadata": {},
   "outputs": [
    {
     "data": {
      "text/plain": [
       "'YTN 주요 뉴스해당 언론사로 연결됩니다.'"
      ]
     },
     "execution_count": 20,
     "metadata": {},
     "output_type": "execute_result"
    }
   ],
   "source": [
    "# 클래스 명으로 가져옴\n",
    "soup.select('.tit_cp')[0].text"
   ]
  },
  {
   "cell_type": "markdown",
   "metadata": {},
   "source": [
    "기사 타이틀 위에 회사 로고 이미지에 alt속성 값으로 회사명이 들어있다. \n",
    "\n",
    "img 태그의 alt 속성값을 가져오자\n",
    "\n",
    "* 참고 <a href='https://stackoverflow.com/questions/20649048/display-text-from-img-alt-tag-with-beautifulsoup'> stack overflow </a>"
   ]
  },
  {
   "cell_type": "code",
   "execution_count": 34,
   "metadata": {},
   "outputs": [
    {
     "name": "stdout",
     "output_type": "stream",
     "text": [
      "Daum\n",
      "YTN\n"
     ]
    }
   ],
   "source": [
    "#find_all(태그명)은 리스트로 값을 반환하기때문에 for문 in 뒤에 바로 써 줄 수 있다.\n",
    "#alt = True 파라미터로 alt값이 있는 태그만 가져올 수 있다. \n",
    "for i in soup.find_all('img',alt=True):\n",
    "    print(i['alt'])"
   ]
  },
  {
   "cell_type": "code",
   "execution_count": 43,
   "metadata": {},
   "outputs": [
    {
     "data": {
      "text/plain": [
       "'YTN'"
      ]
     },
     "execution_count": 43,
     "metadata": {},
     "output_type": "execute_result"
    }
   ],
   "source": [
    "#위에 for문에서 1번째 인덱스에 있는것 확인\n",
    "soup.find_all('img',alt=True)[1]['alt']"
   ]
  },
  {
   "cell_type": "markdown",
   "metadata": {},
   "source": [
    "## 함수 만들기\n",
    "\n",
    "3개의 기사가 같은 플랫폼이기 때문에, 구조가 같을거라고 가정하고 url을 전달하면 원하는 데이터를 출력해주는 함수를 만들어보자"
   ]
  },
  {
   "cell_type": "code",
   "execution_count": 70,
   "metadata": {},
   "outputs": [],
   "source": [
    "# title \n",
    "def get_title(url):\n",
    "    res = requests.get(url)\n",
    "    soup = bs(res.content, 'html.parser')\n",
    "    title=soup.find('title').text\n",
    "    return title"
   ]
  },
  {
   "cell_type": "code",
   "execution_count": 71,
   "metadata": {},
   "outputs": [],
   "source": [
    "# company\n",
    "def get_company(url):\n",
    "    res = requests.get(url)\n",
    "    soup = bs(res.content, 'html.parser')\n",
    "    company=soup.find_all('img',alt=True)[1]['alt']\n",
    "    return company"
   ]
  },
  {
   "cell_type": "code",
   "execution_count": 76,
   "metadata": {},
   "outputs": [],
   "source": [
    "title = []\n",
    "company = []\n",
    "\n",
    "for url in crawl_url:\n",
    "    # 함수에서 크롤링 실행\n",
    "    t = get_title(url)\n",
    "    c = get_company(url)\n",
    "    \n",
    "    # 얻어온 값 리스트에 추가 (데이터프레임에 넣기위해)\n",
    "    title.append(t)\n",
    "    company.append(c)"
   ]
  },
  {
   "cell_type": "code",
   "execution_count": 77,
   "metadata": {},
   "outputs": [
    {
     "data": {
      "text/html": [
       "<div>\n",
       "<style scoped>\n",
       "    .dataframe tbody tr th:only-of-type {\n",
       "        vertical-align: middle;\n",
       "    }\n",
       "\n",
       "    .dataframe tbody tr th {\n",
       "        vertical-align: top;\n",
       "    }\n",
       "\n",
       "    .dataframe thead th {\n",
       "        text-align: right;\n",
       "    }\n",
       "</style>\n",
       "<table border=\"1\" class=\"dataframe\">\n",
       "  <thead>\n",
       "    <tr style=\"text-align: right;\">\n",
       "      <th></th>\n",
       "      <th>title</th>\n",
       "      <th>company</th>\n",
       "      <th>url</th>\n",
       "    </tr>\n",
       "  </thead>\n",
       "  <tbody>\n",
       "    <tr>\n",
       "      <th>0</th>\n",
       "      <td>13일부터 마스크 착용 의무화..한 달 계도 후 과태료 10만 원</td>\n",
       "      <td>YTN</td>\n",
       "      <td>https://news.v.daum.net/v/20201004215700006</td>\n",
       "    </tr>\n",
       "    <tr>\n",
       "      <th>1</th>\n",
       "      <td>\"사망 10대와 같은 곳서 같은 백신 접종한 32명, 이상반응 없어\"</td>\n",
       "      <td>연합뉴스</td>\n",
       "      <td>https://news.v.daum.net/v/20201020153505519</td>\n",
       "    </tr>\n",
       "    <tr>\n",
       "      <th>2</th>\n",
       "      <td>지하수에 사는 '골룸 가물치'야, 넌 어디서 왔니</td>\n",
       "      <td>한겨레</td>\n",
       "      <td>https://news.v.daum.net/v/20201020153609574</td>\n",
       "    </tr>\n",
       "  </tbody>\n",
       "</table>\n",
       "</div>"
      ],
      "text/plain": [
       "                                    title company  \\\n",
       "0    13일부터 마스크 착용 의무화..한 달 계도 후 과태료 10만 원     YTN   \n",
       "1  \"사망 10대와 같은 곳서 같은 백신 접종한 32명, 이상반응 없어\"    연합뉴스   \n",
       "2             지하수에 사는 '골룸 가물치'야, 넌 어디서 왔니     한겨레   \n",
       "\n",
       "                                           url  \n",
       "0  https://news.v.daum.net/v/20201004215700006  \n",
       "1  https://news.v.daum.net/v/20201020153505519  \n",
       "2  https://news.v.daum.net/v/20201020153609574  "
      ]
     },
     "execution_count": 77,
     "metadata": {},
     "output_type": "execute_result"
    }
   ],
   "source": [
    "# 데이터프레임 생성\n",
    "df=pd.DataFrame({\n",
    "    'title':title,\n",
    "    'company':company,\n",
    "    'url':crawl_url\n",
    "    })\n",
    "df"
   ]
  },
  {
   "cell_type": "markdown",
   "metadata": {},
   "source": [
    "## 함수 합치기\n",
    "\n",
    "- 중복 된 부분 줄여주자\n",
    "- python 함수에서 두개의 값을 동시에 튜플로 반환할 수 있음"
   ]
  },
  {
   "cell_type": "code",
   "execution_count": 80,
   "metadata": {},
   "outputs": [],
   "source": [
    "# title \n",
    "def get_title_company(url):\n",
    "    res = requests.get(url)\n",
    "    soup = bs(res.content, 'html.parser')\n",
    "    title=soup.find('title').text\n",
    "    company=soup.find_all('img',alt=True)[1]['alt']\n",
    "    return title,company"
   ]
  },
  {
   "cell_type": "code",
   "execution_count": 88,
   "metadata": {},
   "outputs": [],
   "source": [
    "title = []\n",
    "company = []\n",
    "\n",
    "for url in crawl_url:\n",
    "    # 함수에서 크롤링 실행\n",
    "    # 튜플로 리턴된 값을 각각 gt, gc 변수에 넣어준다.\n",
    "    gt, gc = get_title_company(url)\n",
    "\n",
    "    # 얻어온 값 리스트에 추가 (데이터프레임에 넣기위해)\n",
    "    title.append(gt)\n",
    "    company.append(gc)"
   ]
  },
  {
   "cell_type": "code",
   "execution_count": 89,
   "metadata": {},
   "outputs": [
    {
     "data": {
      "text/plain": [
       "['13일부터 마스크 착용 의무화..한 달 계도 후 과태료 10만 원',\n",
       " '\"사망 10대와 같은 곳서 같은 백신 접종한 32명, 이상반응 없어\"',\n",
       " \"지하수에 사는 '골룸 가물치'야, 넌 어디서 왔니\"]"
      ]
     },
     "execution_count": 89,
     "metadata": {},
     "output_type": "execute_result"
    }
   ],
   "source": [
    "title"
   ]
  },
  {
   "cell_type": "code",
   "execution_count": 90,
   "metadata": {},
   "outputs": [
    {
     "data": {
      "text/plain": [
       "['YTN', '연합뉴스', '한겨레']"
      ]
     },
     "execution_count": 90,
     "metadata": {},
     "output_type": "execute_result"
    }
   ],
   "source": [
    "company"
   ]
  },
  {
   "cell_type": "code",
   "execution_count": 91,
   "metadata": {},
   "outputs": [
    {
     "data": {
      "text/html": [
       "<div>\n",
       "<style scoped>\n",
       "    .dataframe tbody tr th:only-of-type {\n",
       "        vertical-align: middle;\n",
       "    }\n",
       "\n",
       "    .dataframe tbody tr th {\n",
       "        vertical-align: top;\n",
       "    }\n",
       "\n",
       "    .dataframe thead th {\n",
       "        text-align: right;\n",
       "    }\n",
       "</style>\n",
       "<table border=\"1\" class=\"dataframe\">\n",
       "  <thead>\n",
       "    <tr style=\"text-align: right;\">\n",
       "      <th></th>\n",
       "      <th>title</th>\n",
       "      <th>company</th>\n",
       "      <th>url</th>\n",
       "    </tr>\n",
       "  </thead>\n",
       "  <tbody>\n",
       "    <tr>\n",
       "      <th>0</th>\n",
       "      <td>13일부터 마스크 착용 의무화..한 달 계도 후 과태료 10만 원</td>\n",
       "      <td>YTN</td>\n",
       "      <td>https://news.v.daum.net/v/20201004215700006</td>\n",
       "    </tr>\n",
       "    <tr>\n",
       "      <th>1</th>\n",
       "      <td>\"사망 10대와 같은 곳서 같은 백신 접종한 32명, 이상반응 없어\"</td>\n",
       "      <td>연합뉴스</td>\n",
       "      <td>https://news.v.daum.net/v/20201020153505519</td>\n",
       "    </tr>\n",
       "    <tr>\n",
       "      <th>2</th>\n",
       "      <td>지하수에 사는 '골룸 가물치'야, 넌 어디서 왔니</td>\n",
       "      <td>한겨레</td>\n",
       "      <td>https://news.v.daum.net/v/20201020153609574</td>\n",
       "    </tr>\n",
       "  </tbody>\n",
       "</table>\n",
       "</div>"
      ],
      "text/plain": [
       "                                    title company  \\\n",
       "0    13일부터 마스크 착용 의무화..한 달 계도 후 과태료 10만 원     YTN   \n",
       "1  \"사망 10대와 같은 곳서 같은 백신 접종한 32명, 이상반응 없어\"    연합뉴스   \n",
       "2             지하수에 사는 '골룸 가물치'야, 넌 어디서 왔니     한겨레   \n",
       "\n",
       "                                           url  \n",
       "0  https://news.v.daum.net/v/20201004215700006  \n",
       "1  https://news.v.daum.net/v/20201020153505519  \n",
       "2  https://news.v.daum.net/v/20201020153609574  "
      ]
     },
     "execution_count": 91,
     "metadata": {},
     "output_type": "execute_result"
    }
   ],
   "source": [
    "# 데이터프레임 생성\n",
    "df=pd.DataFrame({\n",
    "    'title':title,\n",
    "    'company':company,\n",
    "    'url':crawl_url\n",
    "    })\n",
    "df"
   ]
  },
  {
   "cell_type": "code",
   "execution_count": null,
   "metadata": {},
   "outputs": [],
   "source": []
  },
  {
   "cell_type": "code",
   "execution_count": null,
   "metadata": {},
   "outputs": [],
   "source": []
  }
 ],
 "metadata": {
  "kernelspec": {
   "display_name": "Python 3",
   "language": "python",
   "name": "python3"
  },
  "language_info": {
   "codemirror_mode": {
    "name": "ipython",
    "version": 3
   },
   "file_extension": ".py",
   "mimetype": "text/x-python",
   "name": "python",
   "nbconvert_exporter": "python",
   "pygments_lexer": "ipython3",
   "version": "3.8.3"
  }
 },
 "nbformat": 4,
 "nbformat_minor": 4
}
