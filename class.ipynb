{
 "cells": [
  {
   "cell_type": "markdown",
   "metadata": {},
   "source": [
    "## 클래스와 객체\n",
    "\n",
    "클래스는 쿠키를 만드는 틀, 객체는 틀로 만든 쿠키!\n",
    "\n",
    "큰틀이 같은 반복적인 작업을 수행할 때, 매번 해주기 귀찮음\n",
    "\n",
    "클래스로 틀을 만들어주고, 안에 재료만 다른 객체 생성하자\n",
    "\n"
   ]
  },
  {
   "cell_type": "code",
   "execution_count": 1,
   "metadata": {},
   "outputs": [],
   "source": [
    "def calc_bmi(height, weight):\n",
    "    height = height * 0.01\n",
    "    return weight / (height ** 2)"
   ]
  },
  {
   "cell_type": "code",
   "execution_count": 2,
   "metadata": {},
   "outputs": [],
   "source": [
    "person_1_name = 'Jack'\n",
    "person_1_height = 170\n",
    "person_1_weight = 80\n",
    "\n",
    "person_2_name = 'John'\n",
    "person_2_height = 180\n",
    "person_2_weight = 80\n",
    "\n",
    "person_1_bmi = calc_bmi(person_1_height,person_1_weight)\n",
    "person_2_bmi = calc_bmi(person_2_height,person_2_weight)"
   ]
  },
  {
   "cell_type": "code",
   "execution_count": 4,
   "metadata": {},
   "outputs": [
    {
     "name": "stdout",
     "output_type": "stream",
     "text": [
      "Jacks bmi = 27.68\n",
      "Johns bmi = 24.69\n"
     ]
    }
   ],
   "source": [
    "print(\"{}s bmi = {:.2f}\".format(person_1_name,person_1_bmi))\n",
    "print(\"{}s bmi = {:.2f}\".format(person_2_name,person_2_bmi))"
   ]
  },
  {
   "cell_type": "code",
   "execution_count": null,
   "metadata": {},
   "outputs": [],
   "source": []
  },
  {
   "cell_type": "code",
   "execution_count": 7,
   "metadata": {},
   "outputs": [],
   "source": [
    "class Person:\n",
    "    def __init__(self, name, height, weight):\n",
    "        self.name = name\n",
    "        self.height = height\n",
    "        self.weight = weight\n",
    "        \n",
    "    def bmi(self):\n",
    "        height = self.height * 0.01\n",
    "        return self.weight / (height ** 2)\n",
    "    def print_bmi(self):\n",
    "        print(\"{}' bmi = {:.2f}\".format(self.name,self.bmi()))"
   ]
  },
  {
   "cell_type": "code",
   "execution_count": 11,
   "metadata": {},
   "outputs": [
    {
     "name": "stdout",
     "output_type": "stream",
     "text": [
      "Jack' bmi = 27.68\n"
     ]
    }
   ],
   "source": [
    "Jack=Person('Jack',170,80)\n",
    "Jack.print_bmi()"
   ]
  },
  {
   "cell_type": "code",
   "execution_count": 12,
   "metadata": {},
   "outputs": [
    {
     "name": "stdout",
     "output_type": "stream",
     "text": [
      "John' bmi = 24.69\n"
     ]
    }
   ],
   "source": [
    "John=Person('John',180,80)\n",
    "John.print_bmi()"
   ]
  },
  {
   "cell_type": "markdown",
   "metadata": {},
   "source": [
    "## 비빔밥 만들기"
   ]
  },
  {
   "cell_type": "code",
   "execution_count": 13,
   "metadata": {},
   "outputs": [],
   "source": [
    "class Bibimbab:\n",
    "    def __init__ (self, rice, j1, j2, j3):\n",
    "        self.rice = rice\n",
    "        self.j1 = j1\n",
    "        self.j2 = j2\n",
    "        self.j3 = j3\n",
    "    def print_all_j(self):\n",
    "        print(f\"밥은 {self.rice}!\")\n",
    "        print(f\"재료1은 {self.j1}!\")\n",
    "        print(f\"재료2은 {self.j2}!\")\n",
    "        print(f\"재료3은 {self.j3}!\")\n",
    "    def mix(self):\n",
    "        print(f\"{self.rice}에 {self.j1},{self.j2},{self.j3} 넣은 비빔밥 완성\")\n",
    "    "
   ]
  },
  {
   "cell_type": "code",
   "execution_count": 14,
   "metadata": {},
   "outputs": [],
   "source": [
    "hanabab=Bibimbab('흰쌀밥','달걀','나물','참기름')"
   ]
  },
  {
   "cell_type": "code",
   "execution_count": 15,
   "metadata": {},
   "outputs": [
    {
     "name": "stdout",
     "output_type": "stream",
     "text": [
      "흰쌀밥에 달걀,나물,참기름 넣은 비빔밥 완성\n"
     ]
    }
   ],
   "source": [
    "hanabab.mix()"
   ]
  },
  {
   "cell_type": "code",
   "execution_count": 17,
   "metadata": {},
   "outputs": [
    {
     "name": "stdout",
     "output_type": "stream",
     "text": [
      "밥은 흰쌀밥!\n",
      "재료1은 달걀!\n",
      "재료2은 나물!\n",
      "재료3은 참기름!\n"
     ]
    }
   ],
   "source": [
    "hanabab.print_all_j()"
   ]
  },
  {
   "cell_type": "code",
   "execution_count": 18,
   "metadata": {},
   "outputs": [
    {
     "name": "stdout",
     "output_type": "stream",
     "text": [
      "콩밥에 고추장,스팸,참기름 넣은 비빔밥 완성\n"
     ]
    }
   ],
   "source": [
    "yourbab=Bibimbab('콩밥','고추장','스팸','참기름')\n",
    "yourbab.mix()"
   ]
  },
  {
   "cell_type": "code",
   "execution_count": null,
   "metadata": {},
   "outputs": [],
   "source": []
  }
 ],
 "metadata": {
  "kernelspec": {
   "display_name": "Python 3",
   "language": "python",
   "name": "python3"
  },
  "language_info": {
   "codemirror_mode": {
    "name": "ipython",
    "version": 3
   },
   "file_extension": ".py",
   "mimetype": "text/x-python",
   "name": "python",
   "nbconvert_exporter": "python",
   "pygments_lexer": "ipython3",
   "version": "3.8.0"
  }
 },
 "nbformat": 4,
 "nbformat_minor": 2
}
